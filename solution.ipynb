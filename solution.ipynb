{
 "cells": [
  {
   "cell_type": "markdown",
   "id": "a618f946",
   "metadata": {},
   "source": [
    "# Иерархическая категоризация продуктов в e-commerce"
   ]
  },
  {
   "cell_type": "markdown",
   "id": "3ed59b3d",
   "metadata": {},
   "source": [
    "## Формулировка задачи"
   ]
  },
  {
   "cell_type": "markdown",
   "id": "d7c27c72",
   "metadata": {},
   "source": [
    "У каждого товара есть:\n",
    "\n",
    "- *id* - идентификатор товара\n",
    "- *title - заголовок*\n",
    "- *short_description - краткое описание*\n",
    "- *name_value_characteristics - название:значение* характеристики товара, может быть несколько для одного товара и для одной характеристик. Пример: `name1: value1 | value2 | valueN_1 / name2: value1 | value2 | valueN_2 / nameK: value1 | value2 | valueN_K`\n",
    "- *rating - средний рейтинг товара*\n",
    "- *feedback_quantity - количество отзывов по товару*\n",
    "- *category_id - категория товара(таргет)*\n",
    "\n",
    "Нужно предсказать категории (category_id) для переменных из файла test.parquet, используя для тренировки данные из train.parquet."
   ]
  },
  {
   "cell_type": "markdown",
   "id": "922803b5",
   "metadata": {},
   "source": [
    "## Решение"
   ]
  },
  {
   "cell_type": "code",
   "execution_count": 1,
   "id": "b743a75f",
   "metadata": {},
   "outputs": [],
   "source": [
    "# Базовые модули\n",
    "import pandas as pd\n",
    "import numpy as np\n",
    "import re\n",
    "\n",
    "# NLP-модули\n",
    "import nltk\n",
    "import pymorphy2\n",
    "from nltk.stem import WordNetLemmatizer\n",
    "from nltk.corpus import wordnet\n",
    "\n",
    "# Моделирование\n",
    "from sklearn.feature_extraction.text import TfidfVectorizer\n",
    "from sklearn.model_selection import train_test_split, cross_val_score, StratifiedKFold\n",
    "from sklearn.preprocessing import LabelEncoder\n",
    "from sklearn.metrics import accuracy_score, precision_score, recall_score, f1_score, make_scorer\n",
    "from sklearn.svm import LinearSVC"
   ]
  },
  {
   "cell_type": "markdown",
   "id": "d3b4095a",
   "metadata": {},
   "source": [
    "Подгрузим тренировочные и тестовые данные."
   ]
  },
  {
   "cell_type": "code",
   "execution_count": 2,
   "id": "d8476bb0",
   "metadata": {
    "scrolled": true
   },
   "outputs": [
    {
     "data": {
      "text/html": [
       "<div>\n",
       "<style scoped>\n",
       "    .dataframe tbody tr th:only-of-type {\n",
       "        vertical-align: middle;\n",
       "    }\n",
       "\n",
       "    .dataframe tbody tr th {\n",
       "        vertical-align: top;\n",
       "    }\n",
       "\n",
       "    .dataframe thead th {\n",
       "        text-align: right;\n",
       "    }\n",
       "</style>\n",
       "<table border=\"1\" class=\"dataframe\">\n",
       "  <thead>\n",
       "    <tr style=\"text-align: right;\">\n",
       "      <th></th>\n",
       "      <th>id</th>\n",
       "      <th>title</th>\n",
       "      <th>short_description</th>\n",
       "      <th>name_value_characteristics</th>\n",
       "      <th>rating</th>\n",
       "      <th>feedback_quantity</th>\n",
       "      <th>category_id</th>\n",
       "    </tr>\n",
       "  </thead>\n",
       "  <tbody>\n",
       "    <tr>\n",
       "      <th>0</th>\n",
       "      <td>1267423</td>\n",
       "      <td>Muhle Manikure Песочные колпачки для педикюра ...</td>\n",
       "      <td>Muhle Manikure Колпачок песочный шлифовальный ...</td>\n",
       "      <td>None</td>\n",
       "      <td>0.000000</td>\n",
       "      <td>0</td>\n",
       "      <td>2693</td>\n",
       "    </tr>\n",
       "    <tr>\n",
       "      <th>1</th>\n",
       "      <td>128833</td>\n",
       "      <td>Sony Xperia L1 Защитное стекло 2,5D</td>\n",
       "      <td>None</td>\n",
       "      <td>None</td>\n",
       "      <td>4.666667</td>\n",
       "      <td>9</td>\n",
       "      <td>13408</td>\n",
       "    </tr>\n",
       "    <tr>\n",
       "      <th>2</th>\n",
       "      <td>569924</td>\n",
       "      <td>Конверт для денег Прекрасная роза, 16,5 х 8 см</td>\n",
       "      <td>Конверт для денег «Прекрасная роза», 16,5 × 8 см</td>\n",
       "      <td>None</td>\n",
       "      <td>5.000000</td>\n",
       "      <td>6</td>\n",
       "      <td>11790</td>\n",
       "    </tr>\n",
       "  </tbody>\n",
       "</table>\n",
       "</div>"
      ],
      "text/plain": [
       "        id                                              title  \\\n",
       "0  1267423  Muhle Manikure Песочные колпачки для педикюра ...   \n",
       "1   128833                Sony Xperia L1 Защитное стекло 2,5D   \n",
       "2   569924     Конверт для денег Прекрасная роза, 16,5 х 8 см   \n",
       "\n",
       "                                   short_description  \\\n",
       "0  Muhle Manikure Колпачок песочный шлифовальный ...   \n",
       "1                                               None   \n",
       "2   Конверт для денег «Прекрасная роза», 16,5 × 8 см   \n",
       "\n",
       "  name_value_characteristics    rating  feedback_quantity  category_id  \n",
       "0                       None  0.000000                  0         2693  \n",
       "1                       None  4.666667                  9        13408  \n",
       "2                       None  5.000000                  6        11790  "
      ]
     },
     "execution_count": 2,
     "metadata": {},
     "output_type": "execute_result"
    }
   ],
   "source": [
    "df_train = pd.read_parquet('ke_test_data/train.parquet')\n",
    "df_test = pd.read_parquet('ke_test_data/test.parquet')\n",
    "df_train.head(3)"
   ]
  },
  {
   "cell_type": "markdown",
   "id": "bed749dd",
   "metadata": {},
   "source": [
    "Видим, что в части данных много Null-ов."
   ]
  },
  {
   "cell_type": "code",
   "execution_count": 3,
   "id": "f0e5318e",
   "metadata": {
    "scrolled": false
   },
   "outputs": [
    {
     "name": "stdout",
     "output_type": "stream",
     "text": [
      "<class 'pandas.core.frame.DataFrame'>\n",
      "RangeIndex: 283452 entries, 0 to 283451\n",
      "Data columns (total 7 columns):\n",
      " #   Column                      Non-Null Count   Dtype  \n",
      "---  ------                      --------------   -----  \n",
      " 0   id                          283452 non-null  int64  \n",
      " 1   title                       283452 non-null  object \n",
      " 2   short_description           133130 non-null  object \n",
      " 3   name_value_characteristics  50360 non-null   object \n",
      " 4   rating                      283452 non-null  float64\n",
      " 5   feedback_quantity           283452 non-null  int64  \n",
      " 6   category_id                 283452 non-null  int64  \n",
      "dtypes: float64(1), int64(3), object(3)\n",
      "memory usage: 15.1+ MB\n"
     ]
    }
   ],
   "source": [
    "df_train.info()"
   ]
  },
  {
   "cell_type": "code",
   "execution_count": 4,
   "id": "893e82c9",
   "metadata": {},
   "outputs": [
    {
     "name": "stdout",
     "output_type": "stream",
     "text": [
      "<class 'pandas.core.frame.DataFrame'>\n",
      "RangeIndex: 70864 entries, 0 to 70863\n",
      "Data columns (total 6 columns):\n",
      " #   Column                      Non-Null Count  Dtype  \n",
      "---  ------                      --------------  -----  \n",
      " 0   id                          70864 non-null  int64  \n",
      " 1   title                       70864 non-null  object \n",
      " 2   short_description           33346 non-null  object \n",
      " 3   name_value_characteristics  12576 non-null  object \n",
      " 4   rating                      70864 non-null  float64\n",
      " 5   feedback_quantity           70864 non-null  int64  \n",
      "dtypes: float64(1), int64(2), object(3)\n",
      "memory usage: 3.2+ MB\n"
     ]
    }
   ],
   "source": [
    "df_test.info()"
   ]
  },
  {
   "cell_type": "markdown",
   "id": "d582a66f",
   "metadata": {},
   "source": [
    "Подгрузим данные из файла категорий."
   ]
  },
  {
   "cell_type": "code",
   "execution_count": 5,
   "id": "782e0a3e",
   "metadata": {
    "scrolled": false
   },
   "outputs": [
    {
     "name": "stdout",
     "output_type": "stream",
     "text": [
      "Всего строк: 3370\n"
     ]
    },
    {
     "data": {
      "text/html": [
       "<div>\n",
       "<style scoped>\n",
       "    .dataframe tbody tr th:only-of-type {\n",
       "        vertical-align: middle;\n",
       "    }\n",
       "\n",
       "    .dataframe tbody tr th {\n",
       "        vertical-align: top;\n",
       "    }\n",
       "\n",
       "    .dataframe thead th {\n",
       "        text-align: right;\n",
       "    }\n",
       "</style>\n",
       "<table border=\"1\" class=\"dataframe\">\n",
       "  <thead>\n",
       "    <tr style=\"text-align: right;\">\n",
       "      <th></th>\n",
       "      <th>id</th>\n",
       "      <th>title</th>\n",
       "      <th>parent_id</th>\n",
       "    </tr>\n",
       "  </thead>\n",
       "  <tbody>\n",
       "    <tr>\n",
       "      <th>0</th>\n",
       "      <td>1</td>\n",
       "      <td>Все категории</td>\n",
       "      <td>0</td>\n",
       "    </tr>\n",
       "    <tr>\n",
       "      <th>21</th>\n",
       "      <td>553</td>\n",
       "      <td>Травяные сборы</td>\n",
       "      <td>0</td>\n",
       "    </tr>\n",
       "    <tr>\n",
       "      <th>23</th>\n",
       "      <td>1754</td>\n",
       "      <td>Табак</td>\n",
       "      <td>0</td>\n",
       "    </tr>\n",
       "    <tr>\n",
       "      <th>28</th>\n",
       "      <td>2000</td>\n",
       "      <td>Игры и софт</td>\n",
       "      <td>0</td>\n",
       "    </tr>\n",
       "  </tbody>\n",
       "</table>\n",
       "</div>"
      ],
      "text/plain": [
       "      id           title  parent_id\n",
       "0      1   Все категории          0\n",
       "21   553  Травяные сборы          0\n",
       "23  1754           Табак          0\n",
       "28  2000     Игры и софт          0"
      ]
     },
     "execution_count": 5,
     "metadata": {},
     "output_type": "execute_result"
    }
   ],
   "source": [
    "df_categories = pd.read_csv('ke_test_data/categories_tree.csv')\n",
    "print(f'Всего строк: {df_categories.shape[0]}')\n",
    "df_categories[df_categories['parent_id'] == 0]"
   ]
  },
  {
   "cell_type": "markdown",
   "id": "50a05bf7",
   "metadata": {},
   "source": [
    "Создаем столбцы уровней иерархии (двигаемся от вершины древа категорий (parent_id = 0)). Всего находим 6 уровней."
   ]
  },
  {
   "cell_type": "code",
   "execution_count": 6,
   "id": "ff3ec1ca",
   "metadata": {},
   "outputs": [
    {
     "name": "stdout",
     "output_type": "stream",
     "text": [
      "[4, 19, 181, 1392, 1691, 63]\n",
      "3350\n"
     ]
    }
   ],
   "source": [
    "# создаем датафреймы под категорию каждой степени детализации\n",
    "cat_lvl1 = df_categories[df_categories['parent_id'] == 0][['id', 'parent_id']]\n",
    "cat_lvl1.columns = ['lvl1', 'lvl0']\n",
    "cat_lvl2 = df_categories[df_categories['parent_id'].isin(cat_lvl1['lvl1'])][['id', 'parent_id']]\n",
    "cat_lvl2.columns = ['lvl2', 'lvl1']\n",
    "cat_lvl3 = df_categories[df_categories['parent_id'].isin(cat_lvl2['lvl2'])][['id', 'parent_id']]\n",
    "cat_lvl3.columns = ['lvl3', 'lvl2']\n",
    "cat_lvl4 = df_categories[df_categories['parent_id'].isin(cat_lvl3['lvl3'])][['id', 'parent_id']]\n",
    "cat_lvl4.columns = ['lvl4', 'lvl3']\n",
    "cat_lvl5 = df_categories[df_categories['parent_id'].isin(cat_lvl4['lvl4'])][['id', 'parent_id']]\n",
    "cat_lvl5.columns = ['lvl5', 'lvl4']\n",
    "cat_lvl6 = df_categories[df_categories['parent_id'].isin(cat_lvl5['lvl5'])][['id', 'parent_id']]\n",
    "cat_lvl6.columns = ['lvl6', 'lvl5']\n",
    "\n",
    "# проверка не то, что ничего не потеряли\n",
    "# 20 недостающих категорий - лишние, они все равно не используются в тренировочном сете\n",
    "print([len(x) for x in [cat_lvl1, cat_lvl2,cat_lvl3,cat_lvl4,cat_lvl5,cat_lvl6]])\n",
    "print(sum([len(x) for x in [cat_lvl1, cat_lvl2,cat_lvl3,cat_lvl4,cat_lvl5,cat_lvl6]]))"
   ]
  },
  {
   "cell_type": "markdown",
   "id": "c00da4ab",
   "metadata": {},
   "source": [
    "Собираем путь ко всем представленным категориям, начиная с самых детальных."
   ]
  },
  {
   "cell_type": "code",
   "execution_count": 7,
   "id": "8f9b9b5c",
   "metadata": {
    "scrolled": true
   },
   "outputs": [
    {
     "data": {
      "text/html": [
       "<div>\n",
       "<style scoped>\n",
       "    .dataframe tbody tr th:only-of-type {\n",
       "        vertical-align: middle;\n",
       "    }\n",
       "\n",
       "    .dataframe tbody tr th {\n",
       "        vertical-align: top;\n",
       "    }\n",
       "\n",
       "    .dataframe thead th {\n",
       "        text-align: right;\n",
       "    }\n",
       "</style>\n",
       "<table border=\"1\" class=\"dataframe\">\n",
       "  <thead>\n",
       "    <tr style=\"text-align: right;\">\n",
       "      <th></th>\n",
       "      <th>lvl6</th>\n",
       "      <th>lvl5</th>\n",
       "      <th>lvl4</th>\n",
       "      <th>lvl3</th>\n",
       "      <th>lvl2</th>\n",
       "      <th>lvl1</th>\n",
       "      <th>lvl0</th>\n",
       "    </tr>\n",
       "  </thead>\n",
       "  <tbody>\n",
       "    <tr>\n",
       "      <th>0</th>\n",
       "      <td>2824.0</td>\n",
       "      <td>2812.0</td>\n",
       "      <td>2808.0</td>\n",
       "      <td>2807.0</td>\n",
       "      <td>10014.0</td>\n",
       "      <td>1</td>\n",
       "      <td>0</td>\n",
       "    </tr>\n",
       "    <tr>\n",
       "      <th>1</th>\n",
       "      <td>2825.0</td>\n",
       "      <td>2812.0</td>\n",
       "      <td>2808.0</td>\n",
       "      <td>2807.0</td>\n",
       "      <td>10014.0</td>\n",
       "      <td>1</td>\n",
       "      <td>0</td>\n",
       "    </tr>\n",
       "    <tr>\n",
       "      <th>2</th>\n",
       "      <td>2826.0</td>\n",
       "      <td>2812.0</td>\n",
       "      <td>2808.0</td>\n",
       "      <td>2807.0</td>\n",
       "      <td>10014.0</td>\n",
       "      <td>1</td>\n",
       "      <td>0</td>\n",
       "    </tr>\n",
       "  </tbody>\n",
       "</table>\n",
       "</div>"
      ],
      "text/plain": [
       "     lvl6    lvl5    lvl4    lvl3     lvl2  lvl1  lvl0\n",
       "0  2824.0  2812.0  2808.0  2807.0  10014.0     1     0\n",
       "1  2825.0  2812.0  2808.0  2807.0  10014.0     1     0\n",
       "2  2826.0  2812.0  2808.0  2807.0  10014.0     1     0"
      ]
     },
     "execution_count": 7,
     "metadata": {},
     "output_type": "execute_result"
    }
   ],
   "source": [
    "cat_merged = cat_lvl6.merge(cat_lvl5, how = 'outer', left_on = 'lvl5', right_on = 'lvl5')\n",
    "cat_merged = cat_merged.merge(cat_lvl4, how = 'outer', left_on = 'lvl4', right_on = 'lvl4')\n",
    "cat_merged = cat_merged.merge(cat_lvl3, how = 'outer', left_on = 'lvl3', right_on = 'lvl3')\n",
    "cat_merged = cat_merged.merge(cat_lvl2, how = 'outer', left_on = 'lvl2', right_on = 'lvl2')\n",
    "cat_merged = cat_merged.merge(cat_lvl1, how = 'outer', left_on = 'lvl1', right_on = 'lvl1')\n",
    "cat_merged.head(3)"
   ]
  },
  {
   "cell_type": "markdown",
   "id": "d9ca1e3b",
   "metadata": {},
   "source": [
    "Проставляем длину ветки древа и id конечного листа для ветки древа."
   ]
  },
  {
   "cell_type": "code",
   "execution_count": 8,
   "id": "ea3ef7d2",
   "metadata": {
    "scrolled": false
   },
   "outputs": [
    {
     "data": {
      "text/html": [
       "<div>\n",
       "<style scoped>\n",
       "    .dataframe tbody tr th:only-of-type {\n",
       "        vertical-align: middle;\n",
       "    }\n",
       "\n",
       "    .dataframe tbody tr th {\n",
       "        vertical-align: top;\n",
       "    }\n",
       "\n",
       "    .dataframe thead th {\n",
       "        text-align: right;\n",
       "    }\n",
       "</style>\n",
       "<table border=\"1\" class=\"dataframe\">\n",
       "  <thead>\n",
       "    <tr style=\"text-align: right;\">\n",
       "      <th></th>\n",
       "      <th>lvl6</th>\n",
       "      <th>lvl5</th>\n",
       "      <th>lvl4</th>\n",
       "      <th>lvl3</th>\n",
       "      <th>lvl2</th>\n",
       "      <th>lvl1</th>\n",
       "      <th>lvl0</th>\n",
       "      <th>deep_id</th>\n",
       "      <th>deep_lvl</th>\n",
       "    </tr>\n",
       "  </thead>\n",
       "  <tbody>\n",
       "    <tr>\n",
       "      <th>0</th>\n",
       "      <td>2824</td>\n",
       "      <td>2812</td>\n",
       "      <td>2808</td>\n",
       "      <td>2807</td>\n",
       "      <td>10014</td>\n",
       "      <td>1</td>\n",
       "      <td>0</td>\n",
       "      <td>2824</td>\n",
       "      <td>lvl6</td>\n",
       "    </tr>\n",
       "    <tr>\n",
       "      <th>1</th>\n",
       "      <td>2825</td>\n",
       "      <td>2812</td>\n",
       "      <td>2808</td>\n",
       "      <td>2807</td>\n",
       "      <td>10014</td>\n",
       "      <td>1</td>\n",
       "      <td>0</td>\n",
       "      <td>2825</td>\n",
       "      <td>lvl6</td>\n",
       "    </tr>\n",
       "    <tr>\n",
       "      <th>2</th>\n",
       "      <td>2826</td>\n",
       "      <td>2812</td>\n",
       "      <td>2808</td>\n",
       "      <td>2807</td>\n",
       "      <td>10014</td>\n",
       "      <td>1</td>\n",
       "      <td>0</td>\n",
       "      <td>2826</td>\n",
       "      <td>lvl6</td>\n",
       "    </tr>\n",
       "  </tbody>\n",
       "</table>\n",
       "</div>"
      ],
      "text/plain": [
       "   lvl6  lvl5  lvl4  lvl3   lvl2  lvl1  lvl0  deep_id deep_lvl\n",
       "0  2824  2812  2808  2807  10014     1     0     2824     lvl6\n",
       "1  2825  2812  2808  2807  10014     1     0     2825     lvl6\n",
       "2  2826  2812  2808  2807  10014     1     0     2826     lvl6"
      ]
     },
     "execution_count": 8,
     "metadata": {},
     "output_type": "execute_result"
    }
   ],
   "source": [
    "cat_merged = cat_merged.astype('Int64')\n",
    "cat_merged['deep_id'] = cat_merged.fillna(method='bfill', axis=1).iloc[:, 0]\n",
    "cat_merged['deep_lvl'] = cat_merged.apply(pd.Series.first_valid_index, axis=1)\n",
    "cat_merged.head(3)"
   ]
  },
  {
   "cell_type": "markdown",
   "id": "c3fc3e8f",
   "metadata": {},
   "source": [
    "Как видим ниже, мы покрыли все id в тренировочном сете."
   ]
  },
  {
   "cell_type": "code",
   "execution_count": 9,
   "id": "7a162def",
   "metadata": {
    "scrolled": false
   },
   "outputs": [
    {
     "name": "stdout",
     "output_type": "stream",
     "text": [
      "Упущенные категории:  0\n"
     ]
    }
   ],
   "source": [
    "print('Упущенные категории: ', len(df_train[df_train['category_id'].isin(cat_merged['deep_id'].values) == False]))"
   ]
  },
  {
   "cell_type": "markdown",
   "id": "e93571ea",
   "metadata": {},
   "source": [
    "Присоединим id к тренировочному сету."
   ]
  },
  {
   "cell_type": "code",
   "execution_count": 10,
   "id": "7ad2dc66",
   "metadata": {
    "scrolled": true
   },
   "outputs": [
    {
     "data": {
      "text/html": [
       "<div>\n",
       "<style scoped>\n",
       "    .dataframe tbody tr th:only-of-type {\n",
       "        vertical-align: middle;\n",
       "    }\n",
       "\n",
       "    .dataframe tbody tr th {\n",
       "        vertical-align: top;\n",
       "    }\n",
       "\n",
       "    .dataframe thead th {\n",
       "        text-align: right;\n",
       "    }\n",
       "</style>\n",
       "<table border=\"1\" class=\"dataframe\">\n",
       "  <thead>\n",
       "    <tr style=\"text-align: right;\">\n",
       "      <th></th>\n",
       "      <th>id</th>\n",
       "      <th>title</th>\n",
       "      <th>short_description</th>\n",
       "      <th>name_value_characteristics</th>\n",
       "      <th>rating</th>\n",
       "      <th>feedback_quantity</th>\n",
       "      <th>category_id</th>\n",
       "      <th>lvl6</th>\n",
       "      <th>lvl5</th>\n",
       "      <th>lvl4</th>\n",
       "      <th>lvl3</th>\n",
       "      <th>lvl2</th>\n",
       "      <th>lvl1</th>\n",
       "      <th>lvl0</th>\n",
       "      <th>deep_id</th>\n",
       "      <th>deep_lvl</th>\n",
       "    </tr>\n",
       "  </thead>\n",
       "  <tbody>\n",
       "    <tr>\n",
       "      <th>0</th>\n",
       "      <td>1267423</td>\n",
       "      <td>Muhle Manikure Песочные колпачки для педикюра ...</td>\n",
       "      <td>Muhle Manikure Колпачок песочный шлифовальный ...</td>\n",
       "      <td>None</td>\n",
       "      <td>0.000000</td>\n",
       "      <td>0</td>\n",
       "      <td>2693</td>\n",
       "      <td>&lt;NA&gt;</td>\n",
       "      <td>2693</td>\n",
       "      <td>10355</td>\n",
       "      <td>10113</td>\n",
       "      <td>10012</td>\n",
       "      <td>1</td>\n",
       "      <td>0</td>\n",
       "      <td>2693</td>\n",
       "      <td>lvl5</td>\n",
       "    </tr>\n",
       "    <tr>\n",
       "      <th>1</th>\n",
       "      <td>128833</td>\n",
       "      <td>Sony Xperia L1 Защитное стекло 2,5D</td>\n",
       "      <td>None</td>\n",
       "      <td>None</td>\n",
       "      <td>4.666667</td>\n",
       "      <td>9</td>\n",
       "      <td>13408</td>\n",
       "      <td>&lt;NA&gt;</td>\n",
       "      <td>13408</td>\n",
       "      <td>10398</td>\n",
       "      <td>10044</td>\n",
       "      <td>10020</td>\n",
       "      <td>1</td>\n",
       "      <td>0</td>\n",
       "      <td>13408</td>\n",
       "      <td>lvl5</td>\n",
       "    </tr>\n",
       "    <tr>\n",
       "      <th>2</th>\n",
       "      <td>569924</td>\n",
       "      <td>Конверт для денег Прекрасная роза, 16,5 х 8 см</td>\n",
       "      <td>Конверт для денег «Прекрасная роза», 16,5 × 8 см</td>\n",
       "      <td>None</td>\n",
       "      <td>5.000000</td>\n",
       "      <td>6</td>\n",
       "      <td>11790</td>\n",
       "      <td>&lt;NA&gt;</td>\n",
       "      <td>11790</td>\n",
       "      <td>11163</td>\n",
       "      <td>10118</td>\n",
       "      <td>10018</td>\n",
       "      <td>1</td>\n",
       "      <td>0</td>\n",
       "      <td>11790</td>\n",
       "      <td>lvl5</td>\n",
       "    </tr>\n",
       "  </tbody>\n",
       "</table>\n",
       "</div>"
      ],
      "text/plain": [
       "        id                                              title  \\\n",
       "0  1267423  Muhle Manikure Песочные колпачки для педикюра ...   \n",
       "1   128833                Sony Xperia L1 Защитное стекло 2,5D   \n",
       "2   569924     Конверт для денег Прекрасная роза, 16,5 х 8 см   \n",
       "\n",
       "                                   short_description  \\\n",
       "0  Muhle Manikure Колпачок песочный шлифовальный ...   \n",
       "1                                               None   \n",
       "2   Конверт для денег «Прекрасная роза», 16,5 × 8 см   \n",
       "\n",
       "  name_value_characteristics    rating  feedback_quantity  category_id  lvl6  \\\n",
       "0                       None  0.000000                  0         2693  <NA>   \n",
       "1                       None  4.666667                  9        13408  <NA>   \n",
       "2                       None  5.000000                  6        11790  <NA>   \n",
       "\n",
       "    lvl5   lvl4   lvl3   lvl2  lvl1  lvl0  deep_id deep_lvl  \n",
       "0   2693  10355  10113  10012     1     0     2693     lvl5  \n",
       "1  13408  10398  10044  10020     1     0    13408     lvl5  \n",
       "2  11790  11163  10118  10018     1     0    11790     lvl5  "
      ]
     },
     "execution_count": 10,
     "metadata": {},
     "output_type": "execute_result"
    }
   ],
   "source": [
    "df_train = df_train.merge(cat_merged, how='left', left_on='category_id', right_on='deep_id')\n",
    "df_train.head(3)"
   ]
  },
  {
   "cell_type": "markdown",
   "id": "4d547f7f",
   "metadata": {},
   "source": [
    "Объединив древо категорий с тренировочным фреймом, можем приступать к препроцессингу тренировочного фрейма."
   ]
  },
  {
   "cell_type": "markdown",
   "id": "63be420a",
   "metadata": {},
   "source": [
    "## Препроцессинг текста"
   ]
  },
  {
   "cell_type": "markdown",
   "id": "5690b94a",
   "metadata": {},
   "source": [
    "Подгружаем нужные данные из модулей для NLP."
   ]
  },
  {
   "cell_type": "code",
   "execution_count": 11,
   "id": "c07a8d05",
   "metadata": {},
   "outputs": [
    {
     "name": "stderr",
     "output_type": "stream",
     "text": [
      "[nltk_data] Downloading package omw-1.4 to\n",
      "[nltk_data]     C:\\Users\\Keklek\\AppData\\Roaming\\nltk_data...\n",
      "[nltk_data]   Package omw-1.4 is already up-to-date!\n",
      "[nltk_data] Downloading package wordnet to\n",
      "[nltk_data]     C:\\Users\\Keklek\\AppData\\Roaming\\nltk_data...\n",
      "[nltk_data]   Package wordnet is already up-to-date!\n"
     ]
    }
   ],
   "source": [
    "morph_pymorphy2 = pymorphy2.MorphAnalyzer()\n",
    "morph_nltk = WordNetLemmatizer()\n",
    "nltk.download('omw-1.4')\n",
    "nltk.download('wordnet')\n",
    "stopwords_nltk = nltk.corpus.stopwords.words(['russian', 'english'])"
   ]
  },
  {
   "cell_type": "markdown",
   "id": "7c728064",
   "metadata": {},
   "source": [
    "Пишем функции для препроцессинга ячеек."
   ]
  },
  {
   "cell_type": "code",
   "execution_count": 12,
   "id": "26722dd2",
   "metadata": {},
   "outputs": [],
   "source": [
    "def get_wordnet_pos(word):\n",
    "    \n",
    "    \"\"\" Определение части речи для лемматизации английских слов от NLTK \"\"\"\n",
    "    \n",
    "    tag = nltk.pos_tag([word])[0][1][0].upper()\n",
    "    tag_dict = {\"J\": wordnet.ADJ,\n",
    "                \"N\": wordnet.NOUN,\n",
    "                \"V\": wordnet.VERB,\n",
    "                \"R\": wordnet.ADV}\n",
    "    return tag_dict.get(tag, wordnet.NOUN)\n",
    "\n",
    "# выносим паттерны за функции\n",
    "cyrillic_pat = re.compile(r'[А-Яа-я]')\n",
    "english_pat = re.compile(r'[A-Za-z]')\n",
    "pat_multiply = re.compile(r'(\\d)[XxХх×*](\\d)')\n",
    "pat_multiply_2 = re.compile(r'(\\d)\\s[XxХх×*]\\s(\\d)')\n",
    "pat_dot = re.compile(r'(\\d)[,.](\\d)')  \n",
    "punctuation = re.compile('[”“«»!\"#$%&\\'()*+,./:;<=>?@[\\\\]^_`{|}~.-]')\n",
    "\n",
    "def preproc_text(text, stopwords=stopwords_nltk, cyrillic_pat=cyrillic_pat, english_pat=english_pat,\n",
    "                pat_multiply=pat_multiply, pat_multiply_2=pat_multiply_2, pat_dot=pat_dot, punctuation=punctuation):\n",
    "    \n",
    "    ''' Основная функция препроцессинга - удаляет пунктуацию, приводит размеры и нецелые числа к единому формату, \n",
    "    удаляет лишние пробелы, делает лемматизацию\n",
    "    '''\n",
    "\n",
    "    # приведение паттернов в единообразный вид и удаление лишней пунктуации\n",
    "    text = re.sub(pat_multiply,'\\g<1>mlt\\g<2>', text)\n",
    "    text = re.sub(pat_multiply_2,'\\g<1>mlt\\g<2>', text)\n",
    "    text = re.sub(pat_dot, '\\g<1>dot\\g<2>', text)\n",
    "    text = re.sub(punctuation, ' ', text)\n",
    "    \n",
    "    # лемматизация\n",
    "    words = [word for word in text.split() if word not in (stopwords)]                     \n",
    "    res =[]\n",
    "    for word in words:\n",
    "\n",
    "        if len(word) <= 3:\n",
    "            # pymorphy часто неправильно воспринимает короткие слова \n",
    "            # как часть длинного слова-омонима (напр., см = смотри...)\n",
    "            # сделаем под это исключение\n",
    "            res.append(word)\n",
    "        elif bool(re.search(cyrillic_pat, word)):\n",
    "            p = morph_pymorphy2.parse(word)[0]\n",
    "            res.append(p.normal_form)\n",
    "        elif bool(re.search(english_pat, word)):\n",
    "            p = morph_nltk.lemmatize(word, get_wordnet_pos(word))\n",
    "            res.append(p)\n",
    "    return(' '.join(res)) "
   ]
  },
  {
   "cell_type": "markdown",
   "id": "fe86b73f",
   "metadata": {},
   "source": [
    "Проверка, что все ок."
   ]
  },
  {
   "cell_type": "code",
   "execution_count": 13,
   "id": "e7bccb9b",
   "metadata": {
    "scrolled": true
   },
   "outputs": [
    {
     "data": {
      "text/plain": [
       "'магнит символ новый 3dot3 3 x3 3mlt3 3mlt3 год тигрёнок 3 шт уп well use wash'"
      ]
     },
     "execution_count": 13,
     "metadata": {},
     "output_type": "execute_result"
    }
   ],
   "source": [
    "check = '   Магнит        символ Нового 3,3 3 x3 3 X 3 3*3 года-Тигренок/(по 3 шт в уп better using in with washed)'\n",
    "preproc_text(check)"
   ]
  },
  {
   "cell_type": "markdown",
   "id": "7e4049d6",
   "metadata": {},
   "source": [
    "Функция препроцессинга текстовых колонок датафрейма."
   ]
  },
  {
   "cell_type": "code",
   "execution_count": 14,
   "id": "36ee964e",
   "metadata": {},
   "outputs": [],
   "source": [
    "def preproc_df(df):\n",
    "    \n",
    "    ''' Делает препроцессинг колонок с текстом, используя функцию preproc_text '''\n",
    "    \n",
    "    df.replace(to_replace='None', value='', ) # Избавляемся от None-ов\n",
    "    df.fillna(0, inplace=True) # Избавляемся от None-ов\n",
    "    df[['title', 'short_description', 'name_value_characteristics']] = df[['title', \n",
    "                                                                           'short_description', \n",
    "                                                                           'name_value_characteristics']].astype(str)    \n",
    "    df['title'] = df[['title', 'short_description', 'name_value_characteristics']].apply(\n",
    "        lambda x: ','.join(x.dropna().astype(str)), axis=1)\n",
    "    print('>>> Merged columns')\n",
    "    df['title'] = df['title'].str.lower()        \n",
    "    df['title'] = df['title'].apply(lambda x: preproc_text(x))\n",
    "    print('>>> Done with title')\n",
    "    print('>>> Done with name_value_characteristics')"
   ]
  },
  {
   "cell_type": "code",
   "execution_count": 15,
   "id": "2f9e5563",
   "metadata": {},
   "outputs": [
    {
     "name": "stdout",
     "output_type": "stream",
     "text": [
      ">>> Merged columns\n",
      ">>> Done with title\n",
      ">>> Done with name_value_characteristics\n",
      "Wall time: 10min 24s\n"
     ]
    },
    {
     "data": {
      "text/html": [
       "<div>\n",
       "<style scoped>\n",
       "    .dataframe tbody tr th:only-of-type {\n",
       "        vertical-align: middle;\n",
       "    }\n",
       "\n",
       "    .dataframe tbody tr th {\n",
       "        vertical-align: top;\n",
       "    }\n",
       "\n",
       "    .dataframe thead th {\n",
       "        text-align: right;\n",
       "    }\n",
       "</style>\n",
       "<table border=\"1\" class=\"dataframe\">\n",
       "  <thead>\n",
       "    <tr style=\"text-align: right;\">\n",
       "      <th></th>\n",
       "      <th>id</th>\n",
       "      <th>title</th>\n",
       "      <th>short_description</th>\n",
       "      <th>name_value_characteristics</th>\n",
       "      <th>rating</th>\n",
       "      <th>feedback_quantity</th>\n",
       "      <th>category_id</th>\n",
       "      <th>lvl6</th>\n",
       "      <th>lvl5</th>\n",
       "      <th>lvl4</th>\n",
       "      <th>lvl3</th>\n",
       "      <th>lvl2</th>\n",
       "      <th>lvl1</th>\n",
       "      <th>lvl0</th>\n",
       "      <th>deep_id</th>\n",
       "      <th>deep_lvl</th>\n",
       "    </tr>\n",
       "  </thead>\n",
       "  <tbody>\n",
       "    <tr>\n",
       "      <th>0</th>\n",
       "      <td>1267423</td>\n",
       "      <td>muhle manikure песочный колпачок педикюр pw ср...</td>\n",
       "      <td>Muhle Manikure Колпачок песочный шлифовальный ...</td>\n",
       "      <td>0</td>\n",
       "      <td>0.000000</td>\n",
       "      <td>0</td>\n",
       "      <td>2693</td>\n",
       "      <td>0</td>\n",
       "      <td>2693</td>\n",
       "      <td>10355</td>\n",
       "      <td>10113</td>\n",
       "      <td>10012</td>\n",
       "      <td>1</td>\n",
       "      <td>0</td>\n",
       "      <td>2693</td>\n",
       "      <td>lvl5</td>\n",
       "    </tr>\n",
       "    <tr>\n",
       "      <th>1</th>\n",
       "      <td>128833</td>\n",
       "      <td>sony xperia l1 защитный стекло 2dot5d 0dot0</td>\n",
       "      <td>0</td>\n",
       "      <td>0</td>\n",
       "      <td>4.666667</td>\n",
       "      <td>9</td>\n",
       "      <td>13408</td>\n",
       "      <td>0</td>\n",
       "      <td>13408</td>\n",
       "      <td>10398</td>\n",
       "      <td>10044</td>\n",
       "      <td>10020</td>\n",
       "      <td>1</td>\n",
       "      <td>0</td>\n",
       "      <td>13408</td>\n",
       "      <td>lvl5</td>\n",
       "    </tr>\n",
       "    <tr>\n",
       "      <th>2</th>\n",
       "      <td>569924</td>\n",
       "      <td>конверт деньга прекрасный роза 16dot5mlt8 см к...</td>\n",
       "      <td>Конверт для денег «Прекрасная роза», 16,5 × 8 см</td>\n",
       "      <td>0</td>\n",
       "      <td>5.000000</td>\n",
       "      <td>6</td>\n",
       "      <td>11790</td>\n",
       "      <td>0</td>\n",
       "      <td>11790</td>\n",
       "      <td>11163</td>\n",
       "      <td>10118</td>\n",
       "      <td>10018</td>\n",
       "      <td>1</td>\n",
       "      <td>0</td>\n",
       "      <td>11790</td>\n",
       "      <td>lvl5</td>\n",
       "    </tr>\n",
       "  </tbody>\n",
       "</table>\n",
       "</div>"
      ],
      "text/plain": [
       "        id                                              title  \\\n",
       "0  1267423  muhle manikure песочный колпачок педикюр pw ср...   \n",
       "1   128833        sony xperia l1 защитный стекло 2dot5d 0dot0   \n",
       "2   569924  конверт деньга прекрасный роза 16dot5mlt8 см к...   \n",
       "\n",
       "                                   short_description  \\\n",
       "0  Muhle Manikure Колпачок песочный шлифовальный ...   \n",
       "1                                                  0   \n",
       "2   Конверт для денег «Прекрасная роза», 16,5 × 8 см   \n",
       "\n",
       "  name_value_characteristics    rating  feedback_quantity  category_id  lvl6  \\\n",
       "0                          0  0.000000                  0         2693     0   \n",
       "1                          0  4.666667                  9        13408     0   \n",
       "2                          0  5.000000                  6        11790     0   \n",
       "\n",
       "    lvl5   lvl4   lvl3   lvl2  lvl1  lvl0  deep_id deep_lvl  \n",
       "0   2693  10355  10113  10012     1     0     2693     lvl5  \n",
       "1  13408  10398  10044  10020     1     0    13408     lvl5  \n",
       "2  11790  11163  10118  10018     1     0    11790     lvl5  "
      ]
     },
     "execution_count": 15,
     "metadata": {},
     "output_type": "execute_result"
    }
   ],
   "source": [
    "%%time\n",
    "preproc_df(df_train)\n",
    "df_train.head(3)"
   ]
  },
  {
   "cell_type": "markdown",
   "id": "0e798c95",
   "metadata": {},
   "source": [
    "## Моделирование"
   ]
  },
  {
   "cell_type": "markdown",
   "id": "f4de2532",
   "metadata": {},
   "source": [
    "В текущей задаче иерархической классификации нам крайне важно спускаться к листьям по правильным \"веткам\". Было решено сделать классификацию сверху-вниз, остановкой классификации будет достижения листа \"ветки\"."
   ]
  },
  {
   "cell_type": "markdown",
   "id": "683c9788",
   "metadata": {},
   "source": [
    "Видим, что со 2-го уровня иерархии начинается деление на классы. Причем классы местами очень несбалансированные."
   ]
  },
  {
   "cell_type": "code",
   "execution_count": 16,
   "id": "6354534f",
   "metadata": {},
   "outputs": [
    {
     "name": "stdout",
     "output_type": "stream",
     "text": [
      "lvl1\n",
      "1    1.0\n",
      "Name: lvl1, dtype: Float64\n",
      "\n",
      "lvl2\n",
      "10018    0.254421\n",
      "10014    0.195423\n",
      "10003     0.19507\n",
      "10012    0.182867\n",
      "10020     0.17222\n",
      "Name: lvl2, dtype: Float64\n",
      "\n",
      "lvl3\n",
      "10023    0.135713\n",
      "10044    0.112696\n",
      "10116    0.101118\n",
      "10118     0.08225\n",
      "10115    0.079079\n",
      "10091    0.039693\n",
      "10137     0.03819\n",
      "10191    0.031818\n",
      "10113    0.031166\n",
      "10052    0.030058\n",
      "10024    0.027952\n",
      "10221    0.025697\n",
      "10070    0.025599\n",
      "10165    0.024953\n",
      "10021    0.024166\n",
      "10110    0.021997\n",
      "10049    0.018373\n",
      "10073    0.017209\n",
      "10222    0.016331\n",
      "10144    0.013311\n",
      "10095    0.011374\n",
      "10219    0.009342\n",
      "10094    0.007941\n",
      "10074    0.007793\n",
      "10129    0.006534\n",
      "2807     0.006297\n",
      "10184    0.006234\n",
      "10084     0.00532\n",
      "10141    0.005045\n",
      "10163    0.004967\n",
      "10026    0.004872\n",
      "10058    0.003521\n",
      "10180    0.002956\n",
      "10166    0.002706\n",
      "10022    0.002367\n",
      "10030    0.002353\n",
      "2894     0.001806\n",
      "10186    0.001778\n",
      "10232    0.001704\n",
      "10169    0.001588\n",
      "10034    0.001309\n",
      "10226     0.00103\n",
      "10185    0.000988\n",
      "10086    0.000762\n",
      "2673     0.000759\n",
      "12084    0.000533\n",
      "10227     0.00048\n",
      "10205    0.000173\n",
      "10150    0.000078\n",
      "10176    0.000021\n",
      "Name: lvl3, dtype: Float64\n",
      "\n",
      "lvl4\n",
      "10398    0.111578\n",
      "10104    0.068819\n",
      "11163    0.037019\n",
      "10533     0.02622\n",
      "10934     0.02078\n",
      "           ...   \n",
      "13209    0.000007\n",
      "12584    0.000007\n",
      "13828    0.000007\n",
      "11891    0.000007\n",
      "12950    0.000007\n",
      "Name: lvl4, Length: 386, dtype: Float64\n",
      "\n",
      "lvl5\n",
      "0        0.151945\n",
      "11937    0.052803\n",
      "13408    0.025235\n",
      "13061    0.022699\n",
      "13143    0.021679\n",
      "           ...   \n",
      "12125    0.000007\n",
      "2685     0.000007\n",
      "11623    0.000007\n",
      "12542    0.000007\n",
      "13446    0.000007\n",
      "Name: lvl5, Length: 983, dtype: Float64\n",
      "\n",
      "lvl6\n",
      "0        0.964572\n",
      "12171    0.008499\n",
      "12476    0.005627\n",
      "12579    0.004639\n",
      "14225    0.003232\n",
      "13403      0.0026\n",
      "11567    0.002208\n",
      "2824     0.001277\n",
      "2825      0.00073\n",
      "2833     0.000642\n",
      "2827     0.000642\n",
      "14549    0.000624\n",
      "2838     0.000416\n",
      "2858     0.000402\n",
      "2851     0.000395\n",
      "2837     0.000385\n",
      "14539    0.000356\n",
      "13179    0.000303\n",
      "14551    0.000222\n",
      "2857     0.000222\n",
      "14548    0.000198\n",
      "2841     0.000191\n",
      "12615    0.000176\n",
      "14540    0.000155\n",
      "2829     0.000123\n",
      "2842     0.000106\n",
      "2840     0.000106\n",
      "2861     0.000092\n",
      "12530    0.000071\n",
      "14553    0.000064\n",
      "2862     0.000064\n",
      "2831     0.000064\n",
      "14552     0.00006\n",
      "2846     0.000053\n",
      "2855     0.000053\n",
      "14547    0.000049\n",
      "2850     0.000049\n",
      "2828     0.000049\n",
      "2848     0.000042\n",
      "2852     0.000039\n",
      "2860     0.000032\n",
      "12953    0.000025\n",
      "13169    0.000021\n",
      "2847     0.000021\n",
      "2844     0.000021\n",
      "2826     0.000014\n",
      "2839     0.000014\n",
      "2856     0.000011\n",
      "2854     0.000007\n",
      "2835     0.000007\n",
      "13626    0.000007\n",
      "2830     0.000007\n",
      "2834     0.000007\n",
      "2832     0.000007\n",
      "Name: lvl6, dtype: Float64\n"
     ]
    }
   ],
   "source": [
    "print('lvl1')\n",
    "print(df_train[df_train['lvl1'] != 'none']['lvl1'].value_counts(normalize=True))\n",
    "print('\\nlvl2')\n",
    "print(df_train[df_train['lvl2'] != 'none']['lvl2'].value_counts(normalize=True))\n",
    "print('\\nlvl3')\n",
    "print(df_train[df_train['lvl3'] != 'none']['lvl3'].value_counts(normalize=True))\n",
    "print('\\nlvl4')\n",
    "print(df_train[df_train['lvl4'] != 'none']['lvl4'].value_counts(normalize=True))\n",
    "print('\\nlvl5')\n",
    "print(df_train[df_train['lvl5'] != 'none']['lvl5'].value_counts(normalize=True))\n",
    "print('\\nlvl6')\n",
    "print(df_train[df_train['lvl6'] != 'none']['lvl6'].value_counts(normalize=True))"
   ]
  },
  {
   "cell_type": "markdown",
   "id": "2b2fad57",
   "metadata": {},
   "source": [
    "В условиях ограниченных мощностей и времени, мы сначала проверили RandomForest и логистическую регрессию на базовых настройках. <br> \n",
    "RandomForest значительно слабе показал себя на самых верхних уровнях древа классификации, следовательно, было решено отбросить классификаторы, базирующиеся на деревьях решений, а использовать вместо них линейные классификаторы. <br> Преимуществом линейных классификаторов является также очень высокая скорость обучения."
   ]
  },
  {
   "cell_type": "markdown",
   "id": "678d4ced",
   "metadata": {},
   "source": [
    "В моделе будем использовать подход bag of words с использованием TFIDF-векторизатора, который занижает веса высокочастотных слов. Будем считать частоты по словам и парам слов (использовать юниграммы и биграммы)."
   ]
  },
  {
   "cell_type": "code",
   "execution_count": 17,
   "id": "fc251aa6",
   "metadata": {},
   "outputs": [],
   "source": [
    "tfidf = TfidfVectorizer(ngram_range=(1,2))\n",
    "label_encoder = LabelEncoder()"
   ]
  },
  {
   "cell_type": "markdown",
   "id": "5cbfc3ab",
   "metadata": {},
   "source": [
    "В качестве классификатора выбирали между моделью логистической регрессии и линейным SVM. Второй показал лучшие результаты практически на всех уровнях древа классификации."
   ]
  },
  {
   "cell_type": "markdown",
   "id": "f4f61815",
   "metadata": {},
   "source": [
    "Пропишем параметры классификатора."
   ]
  },
  {
   "cell_type": "code",
   "execution_count": 18,
   "id": "dbdb77a5",
   "metadata": {},
   "outputs": [],
   "source": [
    "clf = LinearSVC(penalty='l2', class_weight='balanced', random_state=0, max_iter=100000, tol=1e-5, C=10)"
   ]
  },
  {
   "cell_type": "markdown",
   "id": "6138f7d7",
   "metadata": {},
   "source": [
    "Пропишем также функцию валидации модели. Для низкоуровневых моделей, по которым не провести кросс-валидацию из-за малого числа представителей одного из классов, заменяем кросс-валидационный F1-скор на F1-скор по тестовой выборке."
   ]
  },
  {
   "cell_type": "code",
   "execution_count": 19,
   "id": "cfcf2929",
   "metadata": {},
   "outputs": [],
   "source": [
    "# содаем механизм скоринга\n",
    "scoring = make_scorer(f1_score, average = 'macro')\n",
    "\n",
    "# сохраняем баланс классов при делении на кросс-валидации\n",
    "stratified_kfold = StratifiedKFold(n_splits=3)\n",
    "\n",
    "def try_cval(Z_train, y_train, f1_holdout, clf=clf, \n",
    "             scoring=scoring, cv=stratified_kfold):\n",
    "    \n",
    "    '''\n",
    "    Пробует провести кросс-валидацию модели с использованием метрики f1,\n",
    "    если не получается, то использует holdout f1\n",
    "    '''\n",
    "    \n",
    "    try:\n",
    "        cv_score = cross_val_score(estimator=clf, X=Z_train, y=y_train, \n",
    "                        scoring=scoring, cv=cv, n_jobs=-1)\n",
    "        res = [cv_score.mean(), cv_score.std()]\n",
    "    except ValueError:\n",
    "        res = [f1_holdout, 0]\n",
    "    return(res)"
   ]
  },
  {
   "cell_type": "markdown",
   "id": "28b353f0",
   "metadata": {},
   "source": [
    "Прогоним модель по всем уровням"
   ]
  },
  {
   "cell_type": "code",
   "execution_count": 20,
   "id": "c3f02d81",
   "metadata": {},
   "outputs": [
    {
     "name": "stdout",
     "output_type": "stream",
     "text": [
      "parent >>>| lvl1 |<<< child >>>| lvl2 |<<< predicted for parent >>>  1  <<<parent >>>| lvl2 |<<< child >>>| lvl3 |<<< predicted for parent >>>  10012  <<<parent >>>| lvl2 |<<< child >>>| lvl3 |<<< predicted for parent >>>  10020  <<<parent >>>| lvl2 |<<< child >>>| lvl3 |<<< predicted for parent >>>  10018  <<<parent >>>| lvl2 |<<< child >>>| lvl3 |<<< predicted for parent >>>  10003  <<<parent >>>| lvl2 |<<< child >>>| lvl3 |<<< predicted for parent >>>  10014  <<<parent >>>| lvl3 |<<< child >>>| lvl4 |<<< predicted for parent >>>  10113  <<<parent >>>| lvl3 |<<< child >>>| lvl4 |<<< predicted for parent >>>  10044  <<<parent >>>| lvl3 |<<< child >>>| lvl4 |<<< predicted for parent >>>  10118  <<<parent >>>| lvl3 |<<< child >>>| lvl4 |<<< predicted for parent >>>  10023  <<<parent >>>| lvl3 |<<< child >>>| lvl4 |<<< predicted for parent >>>  10191  <<<parent >>>| lvl3 |<<< child >>>| lvl4 |<<< predicted for parent >>>  10110  <<<parent >>>| lvl3 |<<< child >>>| lvl4 |<<< predicted for parent >>>  10222  <<<parent >>>| lvl3 |<<< child >>>| lvl4 |<<< predicted for parent >>>  10116  <<<parent >>>| lvl3 |<<< child >>>| lvl4 |<<< predicted for parent >>>  10052  <<<parent >>>| lvl3 |<<< child >>>| lvl4 |<<< predicted for parent >>>  10165  <<<parent >>>| lvl3 |<<< child >>>| lvl4 |<<< predicted for parent >>>  10115  <<<parent >>>| lvl3 |<<< child >>>| lvl4 |<<< predicted for parent >>>  10144  <<<parent >>>| lvl3 |<<< child >>>| lvl4 |<<< predicted for parent >>>  10094  <<<parent >>>| lvl3 |<<< child >>>| lvl4 |<<< predicted for parent >>>  10129  <<<parent >>>| lvl3 |<<< child >>>| lvl4 |<<< predicted for parent >>>  10137  <<<parent >>>| lvl3 |<<< child >>>| lvl4 |<<< predicted for parent >>>  10024  <<<parent >>>| lvl3 |<<< child >>>| lvl4 |<<< predicted for parent >>>  10227  <<<"
     ]
    },
    {
     "name": "stderr",
     "output_type": "stream",
     "text": [
      "D:\\Programming\\Anaconda\\lib\\site-packages\\sklearn\\model_selection\\_split.py:666: UserWarning: The least populated class in y has only 1 members, which is less than n_splits=3.\n",
      "  warnings.warn((\"The least populated class in y has only %d\"\n"
     ]
    },
    {
     "name": "stdout",
     "output_type": "stream",
     "text": [
      "parent >>>| lvl3 |<<< child >>>| lvl4 |<<< predicted for parent >>>  10219  <<<parent >>>| lvl3 |<<< child >>>| lvl4 |<<< predicted for parent >>>  10021  <<<parent >>>| lvl3 |<<< child >>>| lvl4 |<<< predicted for parent >>>  10073  <<<parent >>>| lvl3 |<<< child >>>| lvl4 |<<< predicted for parent >>>  10095  <<<parent >>>| lvl3 |<<< child >>>| lvl4 |<<< predicted for parent >>>  10185  <<<"
     ]
    },
    {
     "name": "stderr",
     "output_type": "stream",
     "text": [
      "D:\\Programming\\Anaconda\\lib\\site-packages\\sklearn\\model_selection\\_split.py:666: UserWarning: The least populated class in y has only 2 members, which is less than n_splits=3.\n",
      "  warnings.warn((\"The least populated class in y has only %d\"\n"
     ]
    },
    {
     "name": "stdout",
     "output_type": "stream",
     "text": [
      "parent >>>| lvl3 |<<< child >>>| lvl4 |<<< predicted for parent >>>  10166  <<<parent >>>| lvl3 |<<< child >>>| lvl4 |<<< predicted for parent >>>  10184  <<<parent >>>| lvl3 |<<< child >>>| lvl4 |<<< predicted for parent >>>  10091  <<<parent >>>| lvl3 |<<< child >>>| lvl4 |<<< predicted for parent >>>  10070  <<<parent >>>| lvl3 |<<< child >>>| lvl4 |<<< predicted for parent >>>  10049  <<<parent >>>| lvl3 |<<< child >>>| lvl4 |<<< predicted for parent >>>  10221  <<<parent >>>| lvl3 |<<< child >>>| lvl4 |<<< predicted for parent >>>  10058  <<<parent >>>| lvl3 |<<< child >>>| lvl4 |<<< predicted for parent >>>  10180  <<<parent >>>| lvl3 |<<< child >>>| lvl4 |<<< predicted for parent >>>  10026  <<<parent >>>| lvl3 |<<< child >>>| lvl4 |<<< predicted for parent >>>  10084  <<<parent >>>| lvl3 |<<< child >>>| lvl4 |<<< predicted for parent >>>  10074  <<<parent >>>| lvl3 |<<< child >>>| lvl4 |<<< predicted for parent >>>  10141  <<<parent >>>| lvl3 |<<< child >>>| lvl4 |<<< predicted for parent >>>  2894  <<<parent >>>| lvl3 |<<< child >>>| lvl4 |<<< predicted for parent >>>  2807  <<<parent >>>| lvl3 |<<< child >>>| lvl4 |<<< predicted for parent >>>  10163  <<<parent >>>| lvl3 |<<< child >>>| lvl4 |<<< predicted for parent >>>  10169  <<<parent >>>| lvl3 |<<< child >>>| lvl4 |<<< predicted for parent >>>  10022  <<<parent >>>| lvl3 |<<< child >>>| lvl4 |<<< predicted for parent >>>  10186  <<<"
     ]
    },
    {
     "name": "stderr",
     "output_type": "stream",
     "text": [
      "D:\\Programming\\Anaconda\\lib\\site-packages\\sklearn\\model_selection\\_split.py:666: UserWarning: The least populated class in y has only 2 members, which is less than n_splits=3.\n",
      "  warnings.warn((\"The least populated class in y has only %d\"\n"
     ]
    },
    {
     "name": "stdout",
     "output_type": "stream",
     "text": [
      "parent >>>| lvl3 |<<< child >>>| lvl4 |<<< predicted for parent >>>  10030  <<<parent >>>| lvl3 |<<< child >>>| lvl4 |<<< predicted for parent >>>  10226  <<<"
     ]
    },
    {
     "name": "stderr",
     "output_type": "stream",
     "text": [
      "D:\\Programming\\Anaconda\\lib\\site-packages\\sklearn\\model_selection\\_split.py:666: UserWarning: The least populated class in y has only 1 members, which is less than n_splits=3.\n",
      "  warnings.warn((\"The least populated class in y has only %d\"\n"
     ]
    },
    {
     "name": "stdout",
     "output_type": "stream",
     "text": [
      "parent >>>| lvl3 |<<< child >>>| lvl4 |<<< predicted for parent >>>  10034  <<<parent >>>| lvl3 |<<< child >>>| lvl4 |<<< predicted for parent >>>  2673  <<<parent >>>| lvl3 |<<< child >>>| lvl4 |<<< predicted for parent >>>  10232  <<<parent >>>| lvl3 |<<< child >>>| lvl4 |<<< predicted for parent >>>  10086  <<<parent >>>| lvl3 |<<< child >>>| lvl4 |<<< predicted for parent >>>  10205  <<<parent >>>| lvl3 |<<< child >>>| lvl4 |<<< predicted for parent >>>  10150  <<<parent >>>| lvl3 |<<< child >>>| lvl4 |<<< predicted for parent >>>  10176  <<<"
     ]
    },
    {
     "name": "stderr",
     "output_type": "stream",
     "text": [
      "D:\\Programming\\Anaconda\\lib\\site-packages\\sklearn\\model_selection\\_split.py:666: UserWarning: The least populated class in y has only 2 members, which is less than n_splits=3.\n",
      "  warnings.warn((\"The least populated class in y has only %d\"\n",
      "D:\\Programming\\Anaconda\\lib\\site-packages\\sklearn\\model_selection\\_split.py:666: UserWarning: The least populated class in y has only 2 members, which is less than n_splits=3.\n",
      "  warnings.warn((\"The least populated class in y has only %d\"\n"
     ]
    },
    {
     "name": "stdout",
     "output_type": "stream",
     "text": [
      "parent >>>| lvl4 |<<< child >>>| lvl5 |<<< predicted for parent >>>  10355  <<<parent >>>| lvl4 |<<< child >>>| lvl5 |<<< predicted for parent >>>  10398  <<<parent >>>| lvl4 |<<< child >>>| lvl5 |<<< predicted for parent >>>  11163  <<<parent >>>| lvl4 |<<< child >>>| lvl5 |<<< predicted for parent >>>  10214  <<<parent >>>| lvl4 |<<< child >>>| lvl5 |<<< predicted for parent >>>  10104  <<<parent >>>| lvl4 |<<< child >>>| lvl5 |<<< predicted for parent >>>  12823  <<<parent >>>| lvl4 |<<< child >>>| lvl5 |<<< predicted for parent >>>  10268  <<<parent >>>| lvl4 |<<< child >>>| lvl5 |<<< predicted for parent >>>  11116  <<<parent >>>| lvl4 |<<< child >>>| lvl5 |<<< predicted for parent >>>  10749  <<<parent >>>| lvl4 |<<< child >>>| lvl5 |<<< predicted for parent >>>  12842  <<<parent >>>| lvl4 |<<< child >>>| lvl5 |<<< predicted for parent >>>  10533  <<<parent >>>| lvl4 |<<< child >>>| lvl5 |<<< predicted for parent >>>  10313  <<<parent >>>| lvl4 |<<< child >>>| lvl5 |<<< predicted for parent >>>  11351  <<<parent >>>| lvl4 |<<< child >>>| lvl5 |<<< predicted for parent >>>  10705  <<<parent >>>| lvl4 |<<< child >>>| lvl5 |<<< predicted for parent >>>  10377  <<<parent >>>| lvl4 |<<< child >>>| lvl5 |<<< predicted for parent >>>  11505  <<<"
     ]
    },
    {
     "name": "stderr",
     "output_type": "stream",
     "text": [
      "D:\\Programming\\Anaconda\\lib\\site-packages\\sklearn\\model_selection\\_split.py:666: UserWarning: The least populated class in y has only 2 members, which is less than n_splits=3.\n",
      "  warnings.warn((\"The least populated class in y has only %d\"\n"
     ]
    },
    {
     "name": "stdout",
     "output_type": "stream",
     "text": [
      "parent >>>| lvl4 |<<< child >>>| lvl5 |<<< predicted for parent >>>  11157  <<<"
     ]
    },
    {
     "name": "stderr",
     "output_type": "stream",
     "text": [
      "D:\\Programming\\Anaconda\\lib\\site-packages\\sklearn\\model_selection\\_split.py:666: UserWarning: The least populated class in y has only 2 members, which is less than n_splits=3.\n",
      "  warnings.warn((\"The least populated class in y has only %d\"\n"
     ]
    },
    {
     "name": "stdout",
     "output_type": "stream",
     "text": [
      "parent >>>| lvl4 |<<< child >>>| lvl5 |<<< predicted for parent >>>  10508  <<<parent >>>| lvl4 |<<< child >>>| lvl5 |<<< predicted for parent >>>  10080  <<<parent >>>| lvl4 |<<< child >>>| lvl5 |<<< predicted for parent >>>  11333  <<<"
     ]
    },
    {
     "name": "stderr",
     "output_type": "stream",
     "text": [
      "D:\\Programming\\Anaconda\\lib\\site-packages\\sklearn\\model_selection\\_split.py:666: UserWarning: The least populated class in y has only 1 members, which is less than n_splits=3.\n",
      "  warnings.warn((\"The least populated class in y has only %d\"\n"
     ]
    },
    {
     "name": "stdout",
     "output_type": "stream",
     "text": [
      "parent >>>| lvl4 |<<< child >>>| lvl5 |<<< predicted for parent >>>  10390  <<<parent >>>| lvl4 |<<< child >>>| lvl5 |<<< predicted for parent >>>  10908  <<<"
     ]
    },
    {
     "name": "stderr",
     "output_type": "stream",
     "text": [
      "D:\\Programming\\Anaconda\\lib\\site-packages\\sklearn\\model_selection\\_split.py:666: UserWarning: The least populated class in y has only 1 members, which is less than n_splits=3.\n",
      "  warnings.warn((\"The least populated class in y has only %d\"\n"
     ]
    },
    {
     "name": "stdout",
     "output_type": "stream",
     "text": [
      "parent >>>| lvl4 |<<< child >>>| lvl5 |<<< predicted for parent >>>  10445  <<<parent >>>| lvl4 |<<< child >>>| lvl5 |<<< predicted for parent >>>  13534  <<<parent >>>| lvl4 |<<< child >>>| lvl5 |<<< predicted for parent >>>  10751  <<<parent >>>| lvl4 |<<< child >>>| lvl5 |<<< predicted for parent >>>  10992  <<<parent >>>| lvl4 |<<< child >>>| lvl5 |<<< predicted for parent >>>  10107  <<<parent >>>| lvl4 |<<< child >>>| lvl5 |<<< predicted for parent >>>  10160  <<<parent >>>| lvl4 |<<< child >>>| lvl5 |<<< predicted for parent >>>  11166  <<<parent >>>| lvl4 |<<< child >>>| lvl5 |<<< predicted for parent >>>  10663  <<<parent >>>| lvl4 |<<< child >>>| lvl5 |<<< predicted for parent >>>  10172  <<<parent >>>| lvl4 |<<< child >>>| lvl5 |<<< predicted for parent >>>  10154  <<<parent >>>| lvl4 |<<< child >>>| lvl5 |<<< predicted for parent >>>  10937  <<<parent >>>| lvl4 |<<< child >>>| lvl5 |<<< predicted for parent >>>  10416  <<<parent >>>| lvl4 |<<< child >>>| lvl5 |<<< predicted for parent >>>  10152  <<<"
     ]
    },
    {
     "name": "stderr",
     "output_type": "stream",
     "text": [
      "D:\\Programming\\Anaconda\\lib\\site-packages\\sklearn\\model_selection\\_split.py:666: UserWarning: The least populated class in y has only 2 members, which is less than n_splits=3.\n",
      "  warnings.warn((\"The least populated class in y has only %d\"\n"
     ]
    },
    {
     "name": "stdout",
     "output_type": "stream",
     "text": [
      "parent >>>| lvl4 |<<< child >>>| lvl5 |<<< predicted for parent >>>  10648  <<<parent >>>| lvl4 |<<< child >>>| lvl5 |<<< predicted for parent >>>  10060  <<<parent >>>| lvl4 |<<< child >>>| lvl5 |<<< predicted for parent >>>  2609  <<<"
     ]
    },
    {
     "name": "stderr",
     "output_type": "stream",
     "text": [
      "D:\\Programming\\Anaconda\\lib\\site-packages\\sklearn\\model_selection\\_split.py:666: UserWarning: The least populated class in y has only 2 members, which is less than n_splits=3.\n",
      "  warnings.warn((\"The least populated class in y has only %d\"\n"
     ]
    },
    {
     "name": "stdout",
     "output_type": "stream",
     "text": [
      "parent >>>| lvl4 |<<< child >>>| lvl5 |<<< predicted for parent >>>  11390  <<<parent >>>| lvl4 |<<< child >>>| lvl5 |<<< predicted for parent >>>  10126  <<<parent >>>| lvl4 |<<< child >>>| lvl5 |<<< predicted for parent >>>  11245  <<<parent >>>| lvl4 |<<< child >>>| lvl5 |<<< predicted for parent >>>  10139  <<<parent >>>| lvl4 |<<< child >>>| lvl5 |<<< predicted for parent >>>  10739  <<<parent >>>| lvl4 |<<< child >>>| lvl5 |<<< predicted for parent >>>  11027  <<<parent >>>| lvl4 |<<< child >>>| lvl5 |<<< predicted for parent >>>  10968  <<<parent >>>| lvl4 |<<< child >>>| lvl5 |<<< predicted for parent >>>  11328  <<<parent >>>| lvl4 |<<< child >>>| lvl5 |<<< predicted for parent >>>  10918  <<<parent >>>| lvl4 |<<< child >>>| lvl5 |<<< predicted for parent >>>  11304  <<<parent >>>| lvl4 |<<< child >>>| lvl5 |<<< predicted for parent >>>  10934  <<<parent >>>| lvl4 |<<< child >>>| lvl5 |<<< predicted for parent >>>  10890  <<<"
     ]
    },
    {
     "name": "stderr",
     "output_type": "stream",
     "text": [
      "D:\\Programming\\Anaconda\\lib\\site-packages\\sklearn\\model_selection\\_split.py:666: UserWarning: The least populated class in y has only 2 members, which is less than n_splits=3.\n",
      "  warnings.warn((\"The least populated class in y has only %d\"\n"
     ]
    },
    {
     "name": "stdout",
     "output_type": "stream",
     "text": [
      "parent >>>| lvl4 |<<< child >>>| lvl5 |<<< predicted for parent >>>  10143  <<<parent >>>| lvl4 |<<< child >>>| lvl5 |<<< predicted for parent >>>  10476  <<<"
     ]
    },
    {
     "name": "stderr",
     "output_type": "stream",
     "text": [
      "D:\\Programming\\Anaconda\\lib\\site-packages\\sklearn\\model_selection\\_split.py:666: UserWarning: The least populated class in y has only 2 members, which is less than n_splits=3.\n",
      "  warnings.warn((\"The least populated class in y has only %d\"\n"
     ]
    },
    {
     "name": "stdout",
     "output_type": "stream",
     "text": [
      "parent >>>| lvl4 |<<< child >>>| lvl5 |<<< predicted for parent >>>  11285  <<<parent >>>| lvl4 |<<< child >>>| lvl5 |<<< predicted for parent >>>  10559  <<<parent >>>| lvl4 |<<< child >>>| lvl5 |<<< predicted for parent >>>  10858  <<<parent >>>| lvl4 |<<< child >>>| lvl5 |<<< predicted for parent >>>  10260  <<<parent >>>| lvl4 |<<< child >>>| lvl5 |<<< predicted for parent >>>  11254  <<<"
     ]
    },
    {
     "name": "stderr",
     "output_type": "stream",
     "text": [
      "D:\\Programming\\Anaconda\\lib\\site-packages\\sklearn\\model_selection\\_split.py:666: UserWarning: The least populated class in y has only 2 members, which is less than n_splits=3.\n",
      "  warnings.warn((\"The least populated class in y has only %d\"\n"
     ]
    },
    {
     "name": "stdout",
     "output_type": "stream",
     "text": [
      "parent >>>| lvl4 |<<< child >>>| lvl5 |<<< predicted for parent >>>  10225  <<<parent >>>| lvl4 |<<< child >>>| lvl5 |<<< predicted for parent >>>  10081  <<<"
     ]
    },
    {
     "name": "stderr",
     "output_type": "stream",
     "text": [
      "D:\\Programming\\Anaconda\\lib\\site-packages\\sklearn\\model_selection\\_split.py:666: UserWarning: The least populated class in y has only 2 members, which is less than n_splits=3.\n",
      "  warnings.warn((\"The least populated class in y has only %d\"\n"
     ]
    },
    {
     "name": "stdout",
     "output_type": "stream",
     "text": [
      "parent >>>| lvl4 |<<< child >>>| lvl5 |<<< predicted for parent >>>  10404  <<<parent >>>| lvl4 |<<< child >>>| lvl5 |<<< predicted for parent >>>  10634  <<<parent >>>| lvl4 |<<< child >>>| lvl5 |<<< predicted for parent >>>  11015  <<<parent >>>| lvl4 |<<< child >>>| lvl5 |<<< predicted for parent >>>  11215  <<<"
     ]
    },
    {
     "name": "stderr",
     "output_type": "stream",
     "text": [
      "D:\\Programming\\Anaconda\\lib\\site-packages\\sklearn\\model_selection\\_split.py:666: UserWarning: The least populated class in y has only 2 members, which is less than n_splits=3.\n",
      "  warnings.warn((\"The least populated class in y has only %d\"\n",
      "D:\\Programming\\Anaconda\\lib\\site-packages\\sklearn\\model_selection\\_split.py:666: UserWarning: The least populated class in y has only 2 members, which is less than n_splits=3.\n",
      "  warnings.warn((\"The least populated class in y has only %d\"\n"
     ]
    },
    {
     "name": "stdout",
     "output_type": "stream",
     "text": [
      "parent >>>| lvl4 |<<< child >>>| lvl5 |<<< predicted for parent >>>  10526  <<<parent >>>| lvl4 |<<< child >>>| lvl5 |<<< predicted for parent >>>  10641  <<<parent >>>| lvl4 |<<< child >>>| lvl5 |<<< predicted for parent >>>  10289  <<<parent >>>| lvl4 |<<< child >>>| lvl5 |<<< predicted for parent >>>  11370  <<<parent >>>| lvl4 |<<< child >>>| lvl5 |<<< predicted for parent >>>  11306  <<<"
     ]
    },
    {
     "name": "stderr",
     "output_type": "stream",
     "text": [
      "D:\\Programming\\Anaconda\\lib\\site-packages\\sklearn\\model_selection\\_split.py:666: UserWarning: The least populated class in y has only 2 members, which is less than n_splits=3.\n",
      "  warnings.warn((\"The least populated class in y has only %d\"\n"
     ]
    },
    {
     "name": "stdout",
     "output_type": "stream",
     "text": [
      "parent >>>| lvl4 |<<< child >>>| lvl5 |<<< predicted for parent >>>  11264  <<<parent >>>| lvl4 |<<< child >>>| lvl5 |<<< predicted for parent >>>  11025  <<<parent >>>| lvl4 |<<< child >>>| lvl5 |<<< predicted for parent >>>  10651  <<<parent >>>| lvl4 |<<< child >>>| lvl5 |<<< predicted for parent >>>  10223  <<<"
     ]
    },
    {
     "name": "stderr",
     "output_type": "stream",
     "text": [
      "D:\\Programming\\Anaconda\\lib\\site-packages\\sklearn\\model_selection\\_split.py:666: UserWarning: The least populated class in y has only 2 members, which is less than n_splits=3.\n",
      "  warnings.warn((\"The least populated class in y has only %d\"\n"
     ]
    },
    {
     "name": "stdout",
     "output_type": "stream",
     "text": [
      "parent >>>| lvl4 |<<< child >>>| lvl5 |<<< predicted for parent >>>  11379  <<<parent >>>| lvl4 |<<< child >>>| lvl5 |<<< predicted for parent >>>  10696  <<<parent >>>| lvl4 |<<< child >>>| lvl5 |<<< predicted for parent >>>  11350  <<<parent >>>| lvl4 |<<< child >>>| lvl5 |<<< predicted for parent >>>  10100  <<<"
     ]
    },
    {
     "name": "stderr",
     "output_type": "stream",
     "text": [
      "D:\\Programming\\Anaconda\\lib\\site-packages\\sklearn\\model_selection\\_split.py:666: UserWarning: The least populated class in y has only 2 members, which is less than n_splits=3.\n",
      "  warnings.warn((\"The least populated class in y has only %d\"\n"
     ]
    },
    {
     "name": "stdout",
     "output_type": "stream",
     "text": [
      "parent >>>| lvl4 |<<< child >>>| lvl5 |<<< predicted for parent >>>  11405  <<<parent >>>| lvl4 |<<< child >>>| lvl5 |<<< predicted for parent >>>  11017  <<<parent >>>| lvl4 |<<< child >>>| lvl5 |<<< predicted for parent >>>  11092  <<<parent >>>| lvl4 |<<< child >>>| lvl5 |<<< predicted for parent >>>  11340  <<<parent >>>| lvl4 |<<< child >>>| lvl5 |<<< predicted for parent >>>  10262  <<<parent >>>| lvl4 |<<< child >>>| lvl5 |<<< predicted for parent >>>  2606  <<<parent >>>| lvl4 |<<< child >>>| lvl5 |<<< predicted for parent >>>  10622  <<<"
     ]
    },
    {
     "name": "stderr",
     "output_type": "stream",
     "text": [
      "D:\\Programming\\Anaconda\\lib\\site-packages\\sklearn\\model_selection\\_split.py:666: UserWarning: The least populated class in y has only 2 members, which is less than n_splits=3.\n",
      "  warnings.warn((\"The least populated class in y has only %d\"\n"
     ]
    },
    {
     "name": "stdout",
     "output_type": "stream",
     "text": [
      "parent >>>| lvl4 |<<< child >>>| lvl5 |<<< predicted for parent >>>  10597  <<<parent >>>| lvl4 |<<< child >>>| lvl5 |<<< predicted for parent >>>  10516  <<<parent >>>| lvl4 |<<< child >>>| lvl5 |<<< predicted for parent >>>  10500  <<<parent >>>| lvl4 |<<< child >>>| lvl5 |<<< predicted for parent >>>  10545  <<<parent >>>| lvl4 |<<< child >>>| lvl5 |<<< predicted for parent >>>  2809  <<<parent >>>| lvl4 |<<< child >>>| lvl5 |<<< predicted for parent >>>  11292  <<<parent >>>| lvl4 |<<< child >>>| lvl5 |<<< predicted for parent >>>  11449  <<<parent >>>| lvl4 |<<< child >>>| lvl5 |<<< predicted for parent >>>  10483  <<<parent >>>| lvl4 |<<< child >>>| lvl5 |<<< predicted for parent >>>  11204  <<<parent >>>| lvl4 |<<< child >>>| lvl5 |<<< predicted for parent >>>  2808  <<<parent >>>| lvl4 |<<< child >>>| lvl5 |<<< predicted for parent >>>  11239  <<<"
     ]
    },
    {
     "name": "stderr",
     "output_type": "stream",
     "text": [
      "D:\\Programming\\Anaconda\\lib\\site-packages\\sklearn\\model_selection\\_split.py:666: UserWarning: The least populated class in y has only 1 members, which is less than n_splits=3.\n",
      "  warnings.warn((\"The least populated class in y has only %d\"\n",
      "D:\\Programming\\Anaconda\\lib\\site-packages\\sklearn\\model_selection\\_split.py:666: UserWarning: The least populated class in y has only 1 members, which is less than n_splits=3.\n",
      "  warnings.warn((\"The least populated class in y has only %d\"\n",
      "D:\\Programming\\Anaconda\\lib\\site-packages\\sklearn\\model_selection\\_split.py:666: UserWarning: The least populated class in y has only 1 members, which is less than n_splits=3.\n",
      "  warnings.warn((\"The least populated class in y has only %d\"\n"
     ]
    },
    {
     "name": "stdout",
     "output_type": "stream",
     "text": [
      "parent >>>| lvl4 |<<< child >>>| lvl5 |<<< predicted for parent >>>  10164  <<<parent >>>| lvl4 |<<< child >>>| lvl5 |<<< predicted for parent >>>  10087  <<<parent >>>| lvl4 |<<< child >>>| lvl5 |<<< predicted for parent >>>  10447  <<<"
     ]
    },
    {
     "name": "stderr",
     "output_type": "stream",
     "text": [
      "D:\\Programming\\Anaconda\\lib\\site-packages\\sklearn\\model_selection\\_split.py:666: UserWarning: The least populated class in y has only 2 members, which is less than n_splits=3.\n",
      "  warnings.warn((\"The least populated class in y has only %d\"\n",
      "D:\\Programming\\Anaconda\\lib\\site-packages\\sklearn\\model_selection\\_split.py:666: UserWarning: The least populated class in y has only 2 members, which is less than n_splits=3.\n",
      "  warnings.warn((\"The least populated class in y has only %d\"\n"
     ]
    },
    {
     "name": "stdout",
     "output_type": "stream",
     "text": [
      "parent >>>| lvl4 |<<< child >>>| lvl5 |<<< predicted for parent >>>  10877  <<<parent >>>| lvl4 |<<< child >>>| lvl5 |<<< predicted for parent >>>  10317  <<<parent >>>| lvl4 |<<< child >>>| lvl5 |<<< predicted for parent >>>  10212  <<<"
     ]
    },
    {
     "name": "stderr",
     "output_type": "stream",
     "text": [
      "D:\\Programming\\Anaconda\\lib\\site-packages\\sklearn\\model_selection\\_split.py:666: UserWarning: The least populated class in y has only 2 members, which is less than n_splits=3.\n",
      "  warnings.warn((\"The least populated class in y has only %d\"\n",
      "D:\\Programming\\Anaconda\\lib\\site-packages\\sklearn\\model_selection\\_split.py:666: UserWarning: The least populated class in y has only 1 members, which is less than n_splits=3.\n",
      "  warnings.warn((\"The least populated class in y has only %d\"\n",
      "D:\\Programming\\Anaconda\\lib\\site-packages\\sklearn\\model_selection\\_split.py:666: UserWarning: The least populated class in y has only 2 members, which is less than n_splits=3.\n",
      "  warnings.warn((\"The least populated class in y has only %d\"\n"
     ]
    },
    {
     "name": "stdout",
     "output_type": "stream",
     "text": [
      "parent >>>| lvl4 |<<< child >>>| lvl5 |<<< predicted for parent >>>  11097  <<<parent >>>| lvl4 |<<< child >>>| lvl5 |<<< predicted for parent >>>  10695  <<<parent >>>| lvl4 |<<< child >>>| lvl5 |<<< predicted for parent >>>  11268  <<<parent >>>| lvl4 |<<< child >>>| lvl5 |<<< predicted for parent >>>  11099  <<<parent >>>| lvl4 |<<< child >>>| lvl5 |<<< predicted for parent >>>  10558  <<<parent >>>| lvl4 |<<< child >>>| lvl5 |<<< predicted for parent >>>  10033  <<<parent >>>| lvl4 |<<< child >>>| lvl5 |<<< predicted for parent >>>  11067  <<<parent >>>| lvl4 |<<< child >>>| lvl5 |<<< predicted for parent >>>  11291  <<<"
     ]
    },
    {
     "name": "stderr",
     "output_type": "stream",
     "text": [
      "D:\\Programming\\Anaconda\\lib\\site-packages\\sklearn\\model_selection\\_split.py:666: UserWarning: The least populated class in y has only 2 members, which is less than n_splits=3.\n",
      "  warnings.warn((\"The least populated class in y has only %d\"\n"
     ]
    },
    {
     "name": "stdout",
     "output_type": "stream",
     "text": [
      "parent >>>| lvl4 |<<< child >>>| lvl5 |<<< predicted for parent >>>  10146  <<<parent >>>| lvl4 |<<< child >>>| lvl5 |<<< predicted for parent >>>  11086  <<<parent >>>| lvl4 |<<< child >>>| lvl5 |<<< predicted for parent >>>  11438  <<<parent >>>| lvl4 |<<< child >>>| lvl5 |<<< predicted for parent >>>  12899  <<<parent >>>| lvl4 |<<< child >>>| lvl5 |<<< predicted for parent >>>  10374  <<<"
     ]
    },
    {
     "name": "stderr",
     "output_type": "stream",
     "text": [
      "D:\\Programming\\Anaconda\\lib\\site-packages\\sklearn\\model_selection\\_split.py:666: UserWarning: The least populated class in y has only 2 members, which is less than n_splits=3.\n",
      "  warnings.warn((\"The least populated class in y has only %d\"\n"
     ]
    },
    {
     "name": "stdout",
     "output_type": "stream",
     "text": [
      "parent >>>| lvl4 |<<< child >>>| lvl5 |<<< predicted for parent >>>  10785  <<<parent >>>| lvl4 |<<< child >>>| lvl5 |<<< predicted for parent >>>  10177  <<<parent >>>| lvl4 |<<< child >>>| lvl5 |<<< predicted for parent >>>  10822  <<<parent >>>| lvl4 |<<< child >>>| lvl5 |<<< predicted for parent >>>  10487  <<<parent >>>| lvl4 |<<< child >>>| lvl5 |<<< predicted for parent >>>  10666  <<<parent >>>| lvl4 |<<< child >>>| lvl5 |<<< predicted for parent >>>  10765  <<<parent >>>| lvl4 |<<< child >>>| lvl5 |<<< predicted for parent >>>  10319  <<<"
     ]
    },
    {
     "name": "stderr",
     "output_type": "stream",
     "text": [
      "D:\\Programming\\Anaconda\\lib\\site-packages\\sklearn\\model_selection\\_split.py:666: UserWarning: The least populated class in y has only 2 members, which is less than n_splits=3.\n",
      "  warnings.warn((\"The least populated class in y has only %d\"\n",
      "D:\\Programming\\Anaconda\\lib\\site-packages\\sklearn\\model_selection\\_split.py:666: UserWarning: The least populated class in y has only 2 members, which is less than n_splits=3.\n",
      "  warnings.warn((\"The least populated class in y has only %d\"\n"
     ]
    },
    {
     "name": "stdout",
     "output_type": "stream",
     "text": [
      "parent >>>| lvl4 |<<< child >>>| lvl5 |<<< predicted for parent >>>  10067  <<<parent >>>| lvl4 |<<< child >>>| lvl5 |<<< predicted for parent >>>  10867  <<<parent >>>| lvl4 |<<< child >>>| lvl5 |<<< predicted for parent >>>  11384  <<<parent >>>| lvl4 |<<< child >>>| lvl5 |<<< predicted for parent >>>  11087  <<<parent >>>| lvl4 |<<< child >>>| lvl5 |<<< predicted for parent >>>  10806  <<<"
     ]
    },
    {
     "name": "stderr",
     "output_type": "stream",
     "text": [
      "D:\\Programming\\Anaconda\\lib\\site-packages\\sklearn\\model_selection\\_split.py:666: UserWarning: The least populated class in y has only 2 members, which is less than n_splits=3.\n",
      "  warnings.warn((\"The least populated class in y has only %d\"\n"
     ]
    },
    {
     "name": "stdout",
     "output_type": "stream",
     "text": [
      "parent >>>| lvl4 |<<< child >>>| lvl5 |<<< predicted for parent >>>  10484  <<<parent >>>| lvl4 |<<< child >>>| lvl5 |<<< predicted for parent >>>  10282  <<<"
     ]
    },
    {
     "name": "stderr",
     "output_type": "stream",
     "text": [
      "D:\\Programming\\Anaconda\\lib\\site-packages\\sklearn\\model_selection\\_split.py:666: UserWarning: The least populated class in y has only 1 members, which is less than n_splits=3.\n",
      "  warnings.warn((\"The least populated class in y has only %d\"\n",
      "D:\\Programming\\Anaconda\\lib\\site-packages\\sklearn\\model_selection\\_split.py:666: UserWarning: The least populated class in y has only 2 members, which is less than n_splits=3.\n",
      "  warnings.warn((\"The least populated class in y has only %d\"\n"
     ]
    },
    {
     "name": "stdout",
     "output_type": "stream",
     "text": [
      "parent >>>| lvl4 |<<< child >>>| lvl5 |<<< predicted for parent >>>  10940  <<<parent >>>| lvl4 |<<< child >>>| lvl5 |<<< predicted for parent >>>  10586  <<<parent >>>| lvl4 |<<< child >>>| lvl5 |<<< predicted for parent >>>  10621  <<<parent >>>| lvl4 |<<< child >>>| lvl5 |<<< predicted for parent >>>  10210  <<<parent >>>| lvl4 |<<< child >>>| lvl5 |<<< predicted for parent >>>  10108  <<<parent >>>| lvl4 |<<< child >>>| lvl5 |<<< predicted for parent >>>  11129  <<<"
     ]
    },
    {
     "name": "stderr",
     "output_type": "stream",
     "text": [
      "D:\\Programming\\Anaconda\\lib\\site-packages\\sklearn\\model_selection\\_split.py:666: UserWarning: The least populated class in y has only 2 members, which is less than n_splits=3.\n",
      "  warnings.warn((\"The least populated class in y has only %d\"\n"
     ]
    },
    {
     "name": "stdout",
     "output_type": "stream",
     "text": [
      "parent >>>| lvl4 |<<< child >>>| lvl5 |<<< predicted for parent >>>  10881  <<<parent >>>| lvl4 |<<< child >>>| lvl5 |<<< predicted for parent >>>  10956  <<<parent >>>| lvl4 |<<< child >>>| lvl5 |<<< predicted for parent >>>  10339  <<<parent >>>| lvl4 |<<< child >>>| lvl5 |<<< predicted for parent >>>  11376  <<<parent >>>| lvl4 |<<< child >>>| lvl5 |<<< predicted for parent >>>  10134  <<<parent >>>| lvl4 |<<< child >>>| lvl5 |<<< predicted for parent >>>  10140  <<<parent >>>| lvl4 |<<< child >>>| lvl5 |<<< predicted for parent >>>  13817  <<<parent >>>| lvl4 |<<< child >>>| lvl5 |<<< predicted for parent >>>  10082  <<<parent >>>| lvl4 |<<< child >>>| lvl5 |<<< predicted for parent >>>  11466  <<<parent >>>| lvl4 |<<< child >>>| lvl5 |<<< predicted for parent >>>  11519  <<<parent >>>| lvl4 |<<< child >>>| lvl5 |<<< predicted for parent >>>  10770  <<<parent >>>| lvl4 |<<< child >>>| lvl5 |<<< predicted for parent >>>  10504  <<<parent >>>| lvl4 |<<< child >>>| lvl5 |<<< predicted for parent >>>  11120  <<<parent >>>| lvl4 |<<< child >>>| lvl5 |<<< predicted for parent >>>  10626  <<<parent >>>| lvl4 |<<< child >>>| lvl5 |<<< predicted for parent >>>  10350  <<<parent >>>| lvl4 |<<< child >>>| lvl5 |<<< predicted for parent >>>  10045  <<<parent >>>| lvl4 |<<< child >>>| lvl5 |<<< predicted for parent >>>  10826  <<<parent >>>| lvl4 |<<< child >>>| lvl5 |<<< predicted for parent >>>  10117  <<<parent >>>| lvl4 |<<< child >>>| lvl5 |<<< predicted for parent >>>  10193  <<<"
     ]
    },
    {
     "name": "stderr",
     "output_type": "stream",
     "text": [
      "D:\\Programming\\Anaconda\\lib\\site-packages\\sklearn\\model_selection\\_split.py:666: UserWarning: The least populated class in y has only 2 members, which is less than n_splits=3.\n",
      "  warnings.warn((\"The least populated class in y has only %d\"\n",
      "D:\\Programming\\Anaconda\\lib\\site-packages\\sklearn\\model_selection\\_split.py:666: UserWarning: The least populated class in y has only 1 members, which is less than n_splits=3.\n",
      "  warnings.warn((\"The least populated class in y has only %d\"\n"
     ]
    },
    {
     "name": "stdout",
     "output_type": "stream",
     "text": [
      "parent >>>| lvl4 |<<< child >>>| lvl5 |<<< predicted for parent >>>  10922  <<<parent >>>| lvl4 |<<< child >>>| lvl5 |<<< predicted for parent >>>  10418  <<<parent >>>| lvl4 |<<< child >>>| lvl5 |<<< predicted for parent >>>  10075  <<<parent >>>| lvl4 |<<< child >>>| lvl5 |<<< predicted for parent >>>  10879  <<<parent >>>| lvl4 |<<< child >>>| lvl5 |<<< predicted for parent >>>  10805  <<<parent >>>| lvl4 |<<< child >>>| lvl5 |<<< predicted for parent >>>  2811  <<<"
     ]
    },
    {
     "name": "stderr",
     "output_type": "stream",
     "text": [
      "D:\\Programming\\Anaconda\\lib\\site-packages\\sklearn\\model_selection\\_split.py:666: UserWarning: The least populated class in y has only 1 members, which is less than n_splits=3.\n",
      "  warnings.warn((\"The least populated class in y has only %d\"\n",
      "D:\\Programming\\Anaconda\\lib\\site-packages\\sklearn\\model_selection\\_split.py:666: UserWarning: The least populated class in y has only 2 members, which is less than n_splits=3.\n",
      "  warnings.warn((\"The least populated class in y has only %d\"\n"
     ]
    },
    {
     "name": "stdout",
     "output_type": "stream",
     "text": [
      "parent >>>| lvl4 |<<< child >>>| lvl5 |<<< predicted for parent >>>  10571  <<<parent >>>| lvl4 |<<< child >>>| lvl5 |<<< predicted for parent >>>  10950  <<<parent >>>| lvl4 |<<< child >>>| lvl5 |<<< predicted for parent >>>  10646  <<<"
     ]
    },
    {
     "name": "stderr",
     "output_type": "stream",
     "text": [
      "D:\\Programming\\Anaconda\\lib\\site-packages\\sklearn\\model_selection\\_split.py:666: UserWarning: The least populated class in y has only 2 members, which is less than n_splits=3.\n",
      "  warnings.warn((\"The least populated class in y has only %d\"\n",
      "D:\\Programming\\Anaconda\\lib\\site-packages\\sklearn\\model_selection\\_split.py:666: UserWarning: The least populated class in y has only 1 members, which is less than n_splits=3.\n",
      "  warnings.warn((\"The least populated class in y has only %d\"\n"
     ]
    },
    {
     "name": "stdout",
     "output_type": "stream",
     "text": [
      "parent >>>| lvl4 |<<< child >>>| lvl5 |<<< predicted for parent >>>  10915  <<<parent >>>| lvl4 |<<< child >>>| lvl5 |<<< predicted for parent >>>  11140  <<<parent >>>| lvl4 |<<< child >>>| lvl5 |<<< predicted for parent >>>  11168  <<<parent >>>| lvl4 |<<< child >>>| lvl5 |<<< predicted for parent >>>  10203  <<<"
     ]
    },
    {
     "name": "stderr",
     "output_type": "stream",
     "text": [
      "D:\\Programming\\Anaconda\\lib\\site-packages\\sklearn\\model_selection\\_split.py:666: UserWarning: The least populated class in y has only 2 members, which is less than n_splits=3.\n",
      "  warnings.warn((\"The least populated class in y has only %d\"\n"
     ]
    },
    {
     "name": "stdout",
     "output_type": "stream",
     "text": [
      "parent >>>| lvl4 |<<< child >>>| lvl5 |<<< predicted for parent >>>  10059  <<<parent >>>| lvl4 |<<< child >>>| lvl5 |<<< predicted for parent >>>  2810  <<<"
     ]
    },
    {
     "name": "stderr",
     "output_type": "stream",
     "text": [
      "D:\\Programming\\Anaconda\\lib\\site-packages\\sklearn\\model_selection\\_split.py:666: UserWarning: The least populated class in y has only 1 members, which is less than n_splits=3.\n",
      "  warnings.warn((\"The least populated class in y has only %d\"\n",
      "D:\\Programming\\Anaconda\\lib\\site-packages\\sklearn\\model_selection\\_split.py:666: UserWarning: The least populated class in y has only 2 members, which is less than n_splits=3.\n",
      "  warnings.warn((\"The least populated class in y has only %d\"\n"
     ]
    },
    {
     "name": "stdout",
     "output_type": "stream",
     "text": [
      "parent >>>| lvl4 |<<< child >>>| lvl5 |<<< predicted for parent >>>  10875  <<<parent >>>| lvl4 |<<< child >>>| lvl5 |<<< predicted for parent >>>  11495  <<<parent >>>| lvl4 |<<< child >>>| lvl5 |<<< predicted for parent >>>  11080  <<<parent >>>| lvl4 |<<< child >>>| lvl5 |<<< predicted for parent >>>  10102  <<<"
     ]
    },
    {
     "name": "stderr",
     "output_type": "stream",
     "text": [
      "D:\\Programming\\Anaconda\\lib\\site-packages\\sklearn\\model_selection\\_split.py:666: UserWarning: The least populated class in y has only 2 members, which is less than n_splits=3.\n",
      "  warnings.warn((\"The least populated class in y has only %d\"\n"
     ]
    },
    {
     "name": "stdout",
     "output_type": "stream",
     "text": [
      "parent >>>| lvl4 |<<< child >>>| lvl5 |<<< predicted for parent >>>  10335  <<<parent >>>| lvl4 |<<< child >>>| lvl5 |<<< predicted for parent >>>  11138  <<<parent >>>| lvl4 |<<< child >>>| lvl5 |<<< predicted for parent >>>  11300  <<<"
     ]
    },
    {
     "name": "stderr",
     "output_type": "stream",
     "text": [
      "D:\\Programming\\Anaconda\\lib\\site-packages\\sklearn\\model_selection\\_split.py:666: UserWarning: The least populated class in y has only 2 members, which is less than n_splits=3.\n",
      "  warnings.warn((\"The least populated class in y has only %d\"\n",
      "D:\\Programming\\Anaconda\\lib\\site-packages\\sklearn\\model_selection\\_split.py:666: UserWarning: The least populated class in y has only 2 members, which is less than n_splits=3.\n",
      "  warnings.warn((\"The least populated class in y has only %d\"\n"
     ]
    },
    {
     "name": "stdout",
     "output_type": "stream",
     "text": [
      "parent >>>| lvl4 |<<< child >>>| lvl5 |<<< predicted for parent >>>  11427  <<<parent >>>| lvl4 |<<< child >>>| lvl5 |<<< predicted for parent >>>  11266  <<<parent >>>| lvl4 |<<< child >>>| lvl5 |<<< predicted for parent >>>  11145  <<<parent >>>| lvl4 |<<< child >>>| lvl5 |<<< predicted for parent >>>  11442  <<<parent >>>| lvl4 |<<< child >>>| lvl5 |<<< predicted for parent >>>  10098  <<<parent >>>| lvl5 |<<< child >>>| lvl6 |<<< predicted for parent >>>  10589  <<<parent >>>| lvl5 |<<< child >>>| lvl6 |<<< predicted for parent >>>  2749  <<<"
     ]
    },
    {
     "name": "stderr",
     "output_type": "stream",
     "text": [
      "D:\\Programming\\Anaconda\\lib\\site-packages\\sklearn\\model_selection\\_split.py:666: UserWarning: The least populated class in y has only 2 members, which is less than n_splits=3.\n",
      "  warnings.warn((\"The least populated class in y has only %d\"\n"
     ]
    },
    {
     "name": "stdout",
     "output_type": "stream",
     "text": [
      "parent >>>| lvl5 |<<< child >>>| lvl6 |<<< predicted for parent >>>  11281  <<<parent >>>| lvl5 |<<< child >>>| lvl6 |<<< predicted for parent >>>  2815  <<<"
     ]
    },
    {
     "name": "stderr",
     "output_type": "stream",
     "text": [
      "D:\\Programming\\Anaconda\\lib\\site-packages\\sklearn\\model_selection\\_split.py:666: UserWarning: The least populated class in y has only 1 members, which is less than n_splits=3.\n",
      "  warnings.warn((\"The least populated class in y has only %d\"\n"
     ]
    },
    {
     "name": "stdout",
     "output_type": "stream",
     "text": [
      "parent >>>| lvl5 |<<< child >>>| lvl6 |<<< predicted for parent >>>  2812  <<<parent >>>| lvl5 |<<< child >>>| lvl6 |<<< predicted for parent >>>  13073  <<<parent >>>| lvl5 |<<< child >>>| lvl6 |<<< predicted for parent >>>  2821  <<<parent >>>| lvl5 |<<< child >>>| lvl6 |<<< predicted for parent >>>  13806  <<<parent >>>| lvl5 |<<< child >>>| lvl6 |<<< predicted for parent >>>  2818  <<<parent >>>| lvl5 |<<< child >>>| lvl6 |<<< predicted for parent >>>  2814  <<<parent >>>| lvl5 |<<< child >>>| lvl6 |<<< predicted for parent >>>  2817  <<<>>> DONE WITH WHOLE DF <<<\n",
      "Wall time: 4min 42s\n"
     ]
    },
    {
     "name": "stderr",
     "output_type": "stream",
     "text": [
      "D:\\Programming\\Anaconda\\lib\\site-packages\\sklearn\\model_selection\\_split.py:666: UserWarning: The least populated class in y has only 2 members, which is less than n_splits=3.\n",
      "  warnings.warn((\"The least populated class in y has only %d\"\n"
     ]
    },
    {
     "data": {
      "text/html": [
       "<div>\n",
       "<style scoped>\n",
       "    .dataframe tbody tr th:only-of-type {\n",
       "        vertical-align: middle;\n",
       "    }\n",
       "\n",
       "    .dataframe tbody tr th {\n",
       "        vertical-align: top;\n",
       "    }\n",
       "\n",
       "    .dataframe thead th {\n",
       "        text-align: right;\n",
       "    }\n",
       "</style>\n",
       "<table border=\"1\" class=\"dataframe\">\n",
       "  <thead>\n",
       "    <tr style=\"text-align: right;\">\n",
       "      <th></th>\n",
       "      <th>i</th>\n",
       "      <th>predicted_lvl</th>\n",
       "      <th>parent_lvl</th>\n",
       "      <th>f1_holdout</th>\n",
       "      <th>length</th>\n",
       "      <th>wgt_in_lvl</th>\n",
       "      <th>f1_lvl_weighted</th>\n",
       "      <th>cval_f1_mean</th>\n",
       "      <th>cval_f1_std</th>\n",
       "      <th>cval_mean_weighted</th>\n",
       "    </tr>\n",
       "  </thead>\n",
       "  <tbody>\n",
       "    <tr>\n",
       "      <th>0</th>\n",
       "      <td>1</td>\n",
       "      <td>lvl2</td>\n",
       "      <td>lvl1</td>\n",
       "      <td>0.988630</td>\n",
       "      <td>283452</td>\n",
       "      <td>1.000000</td>\n",
       "      <td>0.988630</td>\n",
       "      <td>0.986561</td>\n",
       "      <td>0.000448</td>\n",
       "      <td>0.986561</td>\n",
       "    </tr>\n",
       "    <tr>\n",
       "      <th>1</th>\n",
       "      <td>10012</td>\n",
       "      <td>lvl3</td>\n",
       "      <td>lvl2</td>\n",
       "      <td>0.909150</td>\n",
       "      <td>51834</td>\n",
       "      <td>0.182867</td>\n",
       "      <td>0.166253</td>\n",
       "      <td>0.899137</td>\n",
       "      <td>0.002138</td>\n",
       "      <td>0.164422</td>\n",
       "    </tr>\n",
       "    <tr>\n",
       "      <th>2</th>\n",
       "      <td>10020</td>\n",
       "      <td>lvl3</td>\n",
       "      <td>lvl2</td>\n",
       "      <td>0.902690</td>\n",
       "      <td>48816</td>\n",
       "      <td>0.172220</td>\n",
       "      <td>0.155461</td>\n",
       "      <td>0.845096</td>\n",
       "      <td>0.008036</td>\n",
       "      <td>0.145542</td>\n",
       "    </tr>\n",
       "    <tr>\n",
       "      <th>3</th>\n",
       "      <td>10018</td>\n",
       "      <td>lvl3</td>\n",
       "      <td>lvl2</td>\n",
       "      <td>0.923495</td>\n",
       "      <td>72116</td>\n",
       "      <td>0.254421</td>\n",
       "      <td>0.234956</td>\n",
       "      <td>0.916324</td>\n",
       "      <td>0.000303</td>\n",
       "      <td>0.233132</td>\n",
       "    </tr>\n",
       "    <tr>\n",
       "      <th>4</th>\n",
       "      <td>10003</td>\n",
       "      <td>lvl3</td>\n",
       "      <td>lvl2</td>\n",
       "      <td>0.775658</td>\n",
       "      <td>55293</td>\n",
       "      <td>0.195070</td>\n",
       "      <td>0.151308</td>\n",
       "      <td>0.759389</td>\n",
       "      <td>0.007847</td>\n",
       "      <td>0.148134</td>\n",
       "    </tr>\n",
       "    <tr>\n",
       "      <th>...</th>\n",
       "      <td>...</td>\n",
       "      <td>...</td>\n",
       "      <td>...</td>\n",
       "      <td>...</td>\n",
       "      <td>...</td>\n",
       "      <td>...</td>\n",
       "      <td>...</td>\n",
       "      <td>...</td>\n",
       "      <td>...</td>\n",
       "      <td>...</td>\n",
       "    </tr>\n",
       "    <tr>\n",
       "      <th>240</th>\n",
       "      <td>2821</td>\n",
       "      <td>lvl6</td>\n",
       "      <td>lvl5</td>\n",
       "      <td>0.927273</td>\n",
       "      <td>230</td>\n",
       "      <td>0.022904</td>\n",
       "      <td>0.021238</td>\n",
       "      <td>0.757989</td>\n",
       "      <td>0.130751</td>\n",
       "      <td>0.017361</td>\n",
       "    </tr>\n",
       "    <tr>\n",
       "      <th>241</th>\n",
       "      <td>13806</td>\n",
       "      <td>lvl6</td>\n",
       "      <td>lvl5</td>\n",
       "      <td>0.589524</td>\n",
       "      <td>124</td>\n",
       "      <td>0.012348</td>\n",
       "      <td>0.007280</td>\n",
       "      <td>0.796673</td>\n",
       "      <td>0.055083</td>\n",
       "      <td>0.009837</td>\n",
       "    </tr>\n",
       "    <tr>\n",
       "      <th>242</th>\n",
       "      <td>2818</td>\n",
       "      <td>lvl6</td>\n",
       "      <td>lvl5</td>\n",
       "      <td>0.935714</td>\n",
       "      <td>157</td>\n",
       "      <td>0.015634</td>\n",
       "      <td>0.014629</td>\n",
       "      <td>0.481604</td>\n",
       "      <td>0.083051</td>\n",
       "      <td>0.007530</td>\n",
       "    </tr>\n",
       "    <tr>\n",
       "      <th>243</th>\n",
       "      <td>2814</td>\n",
       "      <td>lvl6</td>\n",
       "      <td>lvl5</td>\n",
       "      <td>1.000000</td>\n",
       "      <td>4</td>\n",
       "      <td>0.000398</td>\n",
       "      <td>0.000398</td>\n",
       "      <td>1.000000</td>\n",
       "      <td>0.000000</td>\n",
       "      <td>0.000398</td>\n",
       "    </tr>\n",
       "    <tr>\n",
       "      <th>244</th>\n",
       "      <td>2817</td>\n",
       "      <td>lvl6</td>\n",
       "      <td>lvl5</td>\n",
       "      <td>0.761905</td>\n",
       "      <td>18</td>\n",
       "      <td>0.001792</td>\n",
       "      <td>0.001366</td>\n",
       "      <td>0.920635</td>\n",
       "      <td>0.112239</td>\n",
       "      <td>0.001650</td>\n",
       "    </tr>\n",
       "  </tbody>\n",
       "</table>\n",
       "<p>245 rows × 10 columns</p>\n",
       "</div>"
      ],
      "text/plain": [
       "         i predicted_lvl parent_lvl  f1_holdout  length  wgt_in_lvl  \\\n",
       "0        1          lvl2       lvl1    0.988630  283452    1.000000   \n",
       "1    10012          lvl3       lvl2    0.909150   51834    0.182867   \n",
       "2    10020          lvl3       lvl2    0.902690   48816    0.172220   \n",
       "3    10018          lvl3       lvl2    0.923495   72116    0.254421   \n",
       "4    10003          lvl3       lvl2    0.775658   55293    0.195070   \n",
       "..     ...           ...        ...         ...     ...         ...   \n",
       "240   2821          lvl6       lvl5    0.927273     230    0.022904   \n",
       "241  13806          lvl6       lvl5    0.589524     124    0.012348   \n",
       "242   2818          lvl6       lvl5    0.935714     157    0.015634   \n",
       "243   2814          lvl6       lvl5    1.000000       4    0.000398   \n",
       "244   2817          lvl6       lvl5    0.761905      18    0.001792   \n",
       "\n",
       "     f1_lvl_weighted  cval_f1_mean  cval_f1_std  cval_mean_weighted  \n",
       "0           0.988630      0.986561     0.000448            0.986561  \n",
       "1           0.166253      0.899137     0.002138            0.164422  \n",
       "2           0.155461      0.845096     0.008036            0.145542  \n",
       "3           0.234956      0.916324     0.000303            0.233132  \n",
       "4           0.151308      0.759389     0.007847            0.148134  \n",
       "..               ...           ...          ...                 ...  \n",
       "240         0.021238      0.757989     0.130751            0.017361  \n",
       "241         0.007280      0.796673     0.055083            0.009837  \n",
       "242         0.014629      0.481604     0.083051            0.007530  \n",
       "243         0.000398      1.000000     0.000000            0.000398  \n",
       "244         0.001366      0.920635     0.112239            0.001650  \n",
       "\n",
       "[245 rows x 10 columns]"
      ]
     },
     "execution_count": 20,
     "metadata": {},
     "output_type": "execute_result"
    }
   ],
   "source": [
    "%%time\n",
    "df_predictions = pd.DataFrame()\n",
    "\n",
    "# задаем листы с предками-потомками, по которым будем итерировать модели\n",
    "p_c = ['lvl1', 'lvl2', 'lvl3', 'lvl4', 'lvl5']\n",
    "d_c = ['lvl2', 'lvl3', 'lvl4', 'lvl5', 'lvl6']\n",
    "\n",
    "res = []\n",
    "\n",
    "# основной цикл\n",
    "for p, d in zip(p_c, d_c):\n",
    "    \n",
    "    # движемся от начала древа вниз. фильтруем по классу-предку, классифицируем по подклассам на уровень ниже\n",
    "    for i in df_train[(df_train[p] != 0) & (df_train[d] != 0)][p].unique():\n",
    "        \n",
    "        # считаем длину тренировочной выборки, понадобится для расчета средневзвешенных значений коэффициентов\n",
    "        total_length = df_train[(df_train[p] != 0) & (df_train[d] != 0)][p].shape[0]\n",
    "        \n",
    "        # выбираем Х и у с единым предком из тренировочной выборки\n",
    "        X = df_train[(df_train[p] == i)]['title'].astype(str)\n",
    "        y = df_train[(df_train[p] == i)][d]\n",
    "        \n",
    "        # логгирование - начало итерации\n",
    "        # print('working on >>> ', i, end = '')\n",
    "        \n",
    "        # были категории-родители с только одним потомком - для таких присваиваем руками класс единственного потомка\n",
    "        if len(y.unique()) == 1:\n",
    "            y_pred = y\n",
    "            f1_holdout = 1\n",
    "            df_predictions_small = pd.DataFrame({'X_test': X_test,                               \n",
    "                                                 'y_pred': y_pred,                                      \n",
    "                                                 'y_test': y_pred})\n",
    "            cval_mean = 1\n",
    "            cval_std = 0\n",
    "        else:\n",
    "            \n",
    "            # были очень маленькие категории, для которых не сделать сплит на трейн/тест\n",
    "            # для мелких моделей позволим оверфит\n",
    "            if len(y)//4 < 2:\n",
    "                X_train, X_test, y_train, y_test = X, X, y, y\n",
    "            \n",
    "            # создание модели и предсказание в стандартных ситуациях\n",
    "            else:\n",
    "                # сплит данных на трейн/тест\n",
    "                X_train, X_test, y_train, y_test = train_test_split(X, y, \n",
    "                                                                    random_state=0, stratify=y, \n",
    "                                                                    test_size=0.25) # Оставляем баланс классов при сплите\n",
    "            # трансформация переменных\n",
    "            Z_train = tfidf.fit_transform(X_train)\n",
    "            Z_test = tfidf.transform(X_test)\n",
    "            y_train = label_encoder.fit_transform(y_train)\n",
    "            y_test = label_encoder.transform(y_test)\n",
    "            \n",
    "            # фиттинг\n",
    "            clf.fit(Z_train, y_train)\n",
    "            y_pred = clf.predict(Z_test)\n",
    "            \n",
    "            # расчет метрик качества\n",
    "            f1_holdout = f1_score(y_test, y_pred, average='macro')\n",
    "            cval = try_cval(Z_train=Z_train, y_train=y_train, \n",
    "                            f1_holdout=f1_holdout, cv=stratified_kfold)\n",
    "            cval_mean = cval[0]\n",
    "            cval_std = cval[1]\n",
    "            cval_mean_weighted = cval_mean*len(X)/total_length\n",
    "            \n",
    "            # запись результатов в мини-датафрейм\n",
    "            df_predictions_small = pd.DataFrame({'X_test': X_test,                                \n",
    "                                                 'y_pred': label_encoder.inverse_transform(y_pred),                                      \n",
    "                                                 'y_test': label_encoder.inverse_transform(y_test)})\n",
    "        \n",
    "        # присоединение результатов мини-датафрейма к основному датафрейму\n",
    "        df_predictions = pd.concat([df_predictions, df_predictions_small], axis=0)\n",
    "        res.append([i, d, p, f1_holdout, len(X), len(X)/total_length, \n",
    "                    f1_holdout*len(X)/total_length, cval_mean, cval_std, cval_mean_weighted])    \n",
    "        df_res = pd.DataFrame(res)\n",
    "        df_res.columns = ['i', 'predicted_lvl', 'parent_lvl', 'f1_holdout', 'length', \n",
    "                          'wgt_in_lvl', 'f1_lvl_weighted', 'cval_f1_mean', 'cval_f1_std', 'cval_mean_weighted']\n",
    "        \n",
    "        # логгирование - конец итерации\n",
    "        print('parent >>>|', p, '|<<< child >>>|', d, '|<<< predicted for parent >>> ', i, ' <<<', end='')\n",
    "print('>>> DONE WITH WHOLE DF <<<')\n",
    "df_res"
   ]
  },
  {
   "cell_type": "markdown",
   "id": "4fdee752",
   "metadata": {},
   "source": [
    "Посчитаем взвешенные результаты на каждом уровне. В целом, модель неплохо отрабатывает на уровнях 2, 4, 5.<br> Есть узкое место на уровне 3 - возможно, помог бы тьюнинг параметров или выбор другого классификатора."
   ]
  },
  {
   "cell_type": "code",
   "execution_count": 21,
   "id": "ca1273ff",
   "metadata": {
    "scrolled": true
   },
   "outputs": [
    {
     "data": {
      "text/html": [
       "<div>\n",
       "<style scoped>\n",
       "    .dataframe tbody tr th:only-of-type {\n",
       "        vertical-align: middle;\n",
       "    }\n",
       "\n",
       "    .dataframe tbody tr th {\n",
       "        vertical-align: top;\n",
       "    }\n",
       "\n",
       "    .dataframe thead th {\n",
       "        text-align: right;\n",
       "    }\n",
       "</style>\n",
       "<table border=\"1\" class=\"dataframe\">\n",
       "  <thead>\n",
       "    <tr style=\"text-align: right;\">\n",
       "      <th></th>\n",
       "      <th>predicted_lvl</th>\n",
       "      <th>f1_lvl_weighted</th>\n",
       "      <th>cval_mean_weighted</th>\n",
       "      <th>length</th>\n",
       "      <th>lvl_weight</th>\n",
       "    </tr>\n",
       "  </thead>\n",
       "  <tbody>\n",
       "    <tr>\n",
       "      <th>0</th>\n",
       "      <td>lvl2</td>\n",
       "      <td>0.988630</td>\n",
       "      <td>0.986561</td>\n",
       "      <td>283452</td>\n",
       "      <td>1.000000</td>\n",
       "    </tr>\n",
       "    <tr>\n",
       "      <th>1</th>\n",
       "      <td>lvl3</td>\n",
       "      <td>0.875549</td>\n",
       "      <td>0.855672</td>\n",
       "      <td>283452</td>\n",
       "      <td>1.000000</td>\n",
       "    </tr>\n",
       "    <tr>\n",
       "      <th>2</th>\n",
       "      <td>lvl4</td>\n",
       "      <td>0.917422</td>\n",
       "      <td>0.905805</td>\n",
       "      <td>283301</td>\n",
       "      <td>0.999467</td>\n",
       "    </tr>\n",
       "    <tr>\n",
       "      <th>3</th>\n",
       "      <td>lvl5</td>\n",
       "      <td>0.895108</td>\n",
       "      <td>0.858684</td>\n",
       "      <td>240383</td>\n",
       "      <td>0.848055</td>\n",
       "    </tr>\n",
       "    <tr>\n",
       "      <th>4</th>\n",
       "      <td>lvl6</td>\n",
       "      <td>0.801358</td>\n",
       "      <td>0.691645</td>\n",
       "      <td>10042</td>\n",
       "      <td>0.035428</td>\n",
       "    </tr>\n",
       "  </tbody>\n",
       "</table>\n",
       "</div>"
      ],
      "text/plain": [
       "  predicted_lvl  f1_lvl_weighted  cval_mean_weighted  length  lvl_weight\n",
       "0          lvl2         0.988630            0.986561  283452    1.000000\n",
       "1          lvl3         0.875549            0.855672  283452    1.000000\n",
       "2          lvl4         0.917422            0.905805  283301    0.999467\n",
       "3          lvl5         0.895108            0.858684  240383    0.848055\n",
       "4          lvl6         0.801358            0.691645   10042    0.035428"
      ]
     },
     "execution_count": 21,
     "metadata": {},
     "output_type": "execute_result"
    }
   ],
   "source": [
    "overal_res = df_res.groupby('predicted_lvl')[['f1_lvl_weighted', \n",
    "                                                             'cval_mean_weighted', 'length']].sum().reset_index()\n",
    "overal_res['lvl_weight'] = overal_res['length']/overal_res['length'].max()\n",
    "overal_res"
   ]
  },
  {
   "cell_type": "markdown",
   "id": "7e8bb0b5",
   "metadata": {},
   "source": [
    "Посмотрим, где модель плохо справляется. Гипотетически, можно было бы для самых слабых моделей заменять классификаторы/проводить тьюнинг параметров внутри цикла."
   ]
  },
  {
   "cell_type": "code",
   "execution_count": 22,
   "id": "b2abadaf",
   "metadata": {
    "scrolled": true
   },
   "outputs": [
    {
     "data": {
      "text/html": [
       "<div>\n",
       "<style scoped>\n",
       "    .dataframe tbody tr th:only-of-type {\n",
       "        vertical-align: middle;\n",
       "    }\n",
       "\n",
       "    .dataframe tbody tr th {\n",
       "        vertical-align: top;\n",
       "    }\n",
       "\n",
       "    .dataframe thead th {\n",
       "        text-align: right;\n",
       "    }\n",
       "</style>\n",
       "<table border=\"1\" class=\"dataframe\">\n",
       "  <thead>\n",
       "    <tr style=\"text-align: right;\">\n",
       "      <th></th>\n",
       "      <th>i</th>\n",
       "      <th>predicted_lvl</th>\n",
       "      <th>parent_lvl</th>\n",
       "      <th>f1_holdout</th>\n",
       "      <th>length</th>\n",
       "      <th>wgt_in_lvl</th>\n",
       "      <th>f1_lvl_weighted</th>\n",
       "      <th>cval_f1_mean</th>\n",
       "      <th>cval_f1_std</th>\n",
       "      <th>cval_mean_weighted</th>\n",
       "    </tr>\n",
       "  </thead>\n",
       "  <tbody>\n",
       "    <tr>\n",
       "      <th>147</th>\n",
       "      <td>2808</td>\n",
       "      <td>lvl5</td>\n",
       "      <td>lvl4</td>\n",
       "      <td>0.499010</td>\n",
       "      <td>1012</td>\n",
       "      <td>0.004210</td>\n",
       "      <td>0.002101</td>\n",
       "      <td>0.499010</td>\n",
       "      <td>0.000000</td>\n",
       "      <td>0.002101</td>\n",
       "    </tr>\n",
       "    <tr>\n",
       "      <th>236</th>\n",
       "      <td>11281</td>\n",
       "      <td>lvl6</td>\n",
       "      <td>lvl5</td>\n",
       "      <td>0.757844</td>\n",
       "      <td>3377</td>\n",
       "      <td>0.336288</td>\n",
       "      <td>0.254854</td>\n",
       "      <td>0.607507</td>\n",
       "      <td>0.088686</td>\n",
       "      <td>0.204297</td>\n",
       "    </tr>\n",
       "    <tr>\n",
       "      <th>138</th>\n",
       "      <td>10597</td>\n",
       "      <td>lvl5</td>\n",
       "      <td>lvl4</td>\n",
       "      <td>0.694716</td>\n",
       "      <td>2558</td>\n",
       "      <td>0.010641</td>\n",
       "      <td>0.007393</td>\n",
       "      <td>0.618411</td>\n",
       "      <td>0.041697</td>\n",
       "      <td>0.006581</td>\n",
       "    </tr>\n",
       "    <tr>\n",
       "      <th>76</th>\n",
       "      <td>10908</td>\n",
       "      <td>lvl5</td>\n",
       "      <td>lvl4</td>\n",
       "      <td>0.687785</td>\n",
       "      <td>1649</td>\n",
       "      <td>0.006860</td>\n",
       "      <td>0.004718</td>\n",
       "      <td>0.628506</td>\n",
       "      <td>0.112887</td>\n",
       "      <td>0.004311</td>\n",
       "    </tr>\n",
       "    <tr>\n",
       "      <th>93</th>\n",
       "      <td>11390</td>\n",
       "      <td>lvl5</td>\n",
       "      <td>lvl4</td>\n",
       "      <td>0.777965</td>\n",
       "      <td>1075</td>\n",
       "      <td>0.004472</td>\n",
       "      <td>0.003479</td>\n",
       "      <td>0.644338</td>\n",
       "      <td>0.025565</td>\n",
       "      <td>0.002881</td>\n",
       "    </tr>\n",
       "    <tr>\n",
       "      <th>17</th>\n",
       "      <td>10144</td>\n",
       "      <td>lvl4</td>\n",
       "      <td>lvl3</td>\n",
       "      <td>0.824192</td>\n",
       "      <td>3773</td>\n",
       "      <td>0.013318</td>\n",
       "      <td>0.010977</td>\n",
       "      <td>0.673031</td>\n",
       "      <td>0.164104</td>\n",
       "      <td>0.008963</td>\n",
       "    </tr>\n",
       "    <tr>\n",
       "      <th>66</th>\n",
       "      <td>10313</td>\n",
       "      <td>lvl5</td>\n",
       "      <td>lvl4</td>\n",
       "      <td>0.832450</td>\n",
       "      <td>3414</td>\n",
       "      <td>0.014202</td>\n",
       "      <td>0.011823</td>\n",
       "      <td>0.693169</td>\n",
       "      <td>0.142004</td>\n",
       "      <td>0.009845</td>\n",
       "    </tr>\n",
       "    <tr>\n",
       "      <th>105</th>\n",
       "      <td>10143</td>\n",
       "      <td>lvl5</td>\n",
       "      <td>lvl4</td>\n",
       "      <td>0.857020</td>\n",
       "      <td>1940</td>\n",
       "      <td>0.008070</td>\n",
       "      <td>0.006917</td>\n",
       "      <td>0.704733</td>\n",
       "      <td>0.041264</td>\n",
       "      <td>0.005688</td>\n",
       "    </tr>\n",
       "    <tr>\n",
       "      <th>80</th>\n",
       "      <td>10992</td>\n",
       "      <td>lvl5</td>\n",
       "      <td>lvl4</td>\n",
       "      <td>0.809594</td>\n",
       "      <td>2368</td>\n",
       "      <td>0.009851</td>\n",
       "      <td>0.007975</td>\n",
       "      <td>0.723908</td>\n",
       "      <td>0.023911</td>\n",
       "      <td>0.007131</td>\n",
       "    </tr>\n",
       "    <tr>\n",
       "      <th>19</th>\n",
       "      <td>10129</td>\n",
       "      <td>lvl4</td>\n",
       "      <td>lvl3</td>\n",
       "      <td>0.910648</td>\n",
       "      <td>1852</td>\n",
       "      <td>0.006537</td>\n",
       "      <td>0.005953</td>\n",
       "      <td>0.725333</td>\n",
       "      <td>0.047610</td>\n",
       "      <td>0.004742</td>\n",
       "    </tr>\n",
       "  </tbody>\n",
       "</table>\n",
       "</div>"
      ],
      "text/plain": [
       "         i predicted_lvl parent_lvl  f1_holdout  length  wgt_in_lvl  \\\n",
       "147   2808          lvl5       lvl4    0.499010    1012    0.004210   \n",
       "236  11281          lvl6       lvl5    0.757844    3377    0.336288   \n",
       "138  10597          lvl5       lvl4    0.694716    2558    0.010641   \n",
       "76   10908          lvl5       lvl4    0.687785    1649    0.006860   \n",
       "93   11390          lvl5       lvl4    0.777965    1075    0.004472   \n",
       "17   10144          lvl4       lvl3    0.824192    3773    0.013318   \n",
       "66   10313          lvl5       lvl4    0.832450    3414    0.014202   \n",
       "105  10143          lvl5       lvl4    0.857020    1940    0.008070   \n",
       "80   10992          lvl5       lvl4    0.809594    2368    0.009851   \n",
       "19   10129          lvl4       lvl3    0.910648    1852    0.006537   \n",
       "\n",
       "     f1_lvl_weighted  cval_f1_mean  cval_f1_std  cval_mean_weighted  \n",
       "147         0.002101      0.499010     0.000000            0.002101  \n",
       "236         0.254854      0.607507     0.088686            0.204297  \n",
       "138         0.007393      0.618411     0.041697            0.006581  \n",
       "76          0.004718      0.628506     0.112887            0.004311  \n",
       "93          0.003479      0.644338     0.025565            0.002881  \n",
       "17          0.010977      0.673031     0.164104            0.008963  \n",
       "66          0.011823      0.693169     0.142004            0.009845  \n",
       "105         0.006917      0.704733     0.041264            0.005688  \n",
       "80          0.007975      0.723908     0.023911            0.007131  \n",
       "19          0.005953      0.725333     0.047610            0.004742  "
      ]
     },
     "execution_count": 22,
     "metadata": {},
     "output_type": "execute_result"
    }
   ],
   "source": [
    "df_res[df_res['length'] > 1000].sort_values(by='cval_f1_mean', ascending=True).head(10)"
   ]
  },
  {
   "cell_type": "markdown",
   "id": "13d4f610",
   "metadata": {},
   "source": [
    "## Предсказание"
   ]
  },
  {
   "cell_type": "markdown",
   "id": "48655149",
   "metadata": {},
   "source": [
    "Воспользуемся алгоритмом выше для классификации тестовой выборки."
   ]
  },
  {
   "cell_type": "markdown",
   "id": "3d647f4e",
   "metadata": {},
   "source": [
    "Сделаем препроцессинг."
   ]
  },
  {
   "cell_type": "code",
   "execution_count": 23,
   "id": "746b5024",
   "metadata": {
    "scrolled": false
   },
   "outputs": [
    {
     "name": "stdout",
     "output_type": "stream",
     "text": [
      ">>> Merged columns\n",
      ">>> Done with title\n",
      ">>> Done with name_value_characteristics\n",
      "Wall time: 2min 35s\n"
     ]
    },
    {
     "data": {
      "text/html": [
       "<div>\n",
       "<style scoped>\n",
       "    .dataframe tbody tr th:only-of-type {\n",
       "        vertical-align: middle;\n",
       "    }\n",
       "\n",
       "    .dataframe tbody tr th {\n",
       "        vertical-align: top;\n",
       "    }\n",
       "\n",
       "    .dataframe thead th {\n",
       "        text-align: right;\n",
       "    }\n",
       "</style>\n",
       "<table border=\"1\" class=\"dataframe\">\n",
       "  <thead>\n",
       "    <tr style=\"text-align: right;\">\n",
       "      <th></th>\n",
       "      <th>id</th>\n",
       "      <th>title</th>\n",
       "      <th>short_description</th>\n",
       "      <th>name_value_characteristics</th>\n",
       "      <th>rating</th>\n",
       "      <th>feedback_quantity</th>\n",
       "    </tr>\n",
       "  </thead>\n",
       "  <tbody>\n",
       "    <tr>\n",
       "      <th>0</th>\n",
       "      <td>1070974</td>\n",
       "      <td>браслет натуральный камень lotus 0dot0</td>\n",
       "      <td>0</td>\n",
       "      <td>0</td>\n",
       "      <td>0.000000</td>\n",
       "      <td>0</td>\n",
       "    </tr>\n",
       "    <tr>\n",
       "      <th>1</th>\n",
       "      <td>450413</td>\n",
       "      <td>fusion life шампунь сухой окрасить волос личит...</td>\n",
       "      <td>0</td>\n",
       "      <td>0</td>\n",
       "      <td>4.333333</td>\n",
       "      <td>6</td>\n",
       "    </tr>\n",
       "    <tr>\n",
       "      <th>2</th>\n",
       "      <td>126857</td>\n",
       "      <td>микрофон пк jack 3dot5мма всенаправленный унив...</td>\n",
       "      <td>универсальный 3,5 мм микрофон запишет ваш звук</td>\n",
       "      <td>0</td>\n",
       "      <td>3.708333</td>\n",
       "      <td>24</td>\n",
       "    </tr>\n",
       "  </tbody>\n",
       "</table>\n",
       "</div>"
      ],
      "text/plain": [
       "        id                                              title  \\\n",
       "0  1070974             браслет натуральный камень lotus 0dot0   \n",
       "1   450413  fusion life шампунь сухой окрасить волос личит...   \n",
       "2   126857  микрофон пк jack 3dot5мма всенаправленный унив...   \n",
       "\n",
       "                                short_description name_value_characteristics  \\\n",
       "0                                               0                          0   \n",
       "1                                               0                          0   \n",
       "2  универсальный 3,5 мм микрофон запишет ваш звук                          0   \n",
       "\n",
       "     rating  feedback_quantity  \n",
       "0  0.000000                  0  \n",
       "1  4.333333                  6  \n",
       "2  3.708333                 24  "
      ]
     },
     "execution_count": 23,
     "metadata": {},
     "output_type": "execute_result"
    }
   ],
   "source": [
    "%%time\n",
    "preproc_df(df_test)\n",
    "df_test.head(3)"
   ]
  },
  {
   "cell_type": "markdown",
   "id": "54cf2554",
   "metadata": {},
   "source": [
    "Вспомним, что у нас все товары в тренировочном сете попадали в категорию 1. Пропишем это и для тестового сета."
   ]
  },
  {
   "cell_type": "code",
   "execution_count": 24,
   "id": "d868bbd5",
   "metadata": {},
   "outputs": [
    {
     "data": {
      "text/html": [
       "<div>\n",
       "<style scoped>\n",
       "    .dataframe tbody tr th:only-of-type {\n",
       "        vertical-align: middle;\n",
       "    }\n",
       "\n",
       "    .dataframe tbody tr th {\n",
       "        vertical-align: top;\n",
       "    }\n",
       "\n",
       "    .dataframe thead th {\n",
       "        text-align: right;\n",
       "    }\n",
       "</style>\n",
       "<table border=\"1\" class=\"dataframe\">\n",
       "  <thead>\n",
       "    <tr style=\"text-align: right;\">\n",
       "      <th></th>\n",
       "      <th>id</th>\n",
       "      <th>title</th>\n",
       "      <th>y_pred</th>\n",
       "      <th>lvl_p</th>\n",
       "      <th>lvl_d</th>\n",
       "    </tr>\n",
       "  </thead>\n",
       "  <tbody>\n",
       "    <tr>\n",
       "      <th>0</th>\n",
       "      <td>1070974</td>\n",
       "      <td>браслет натуральный камень lotus 0dot0</td>\n",
       "      <td>1</td>\n",
       "      <td>lvl0</td>\n",
       "      <td>lvl1</td>\n",
       "    </tr>\n",
       "    <tr>\n",
       "      <th>1</th>\n",
       "      <td>450413</td>\n",
       "      <td>fusion life шампунь сухой окрасить волос личит...</td>\n",
       "      <td>1</td>\n",
       "      <td>lvl0</td>\n",
       "      <td>lvl1</td>\n",
       "    </tr>\n",
       "    <tr>\n",
       "      <th>2</th>\n",
       "      <td>126857</td>\n",
       "      <td>микрофон пк jack 3dot5мма всенаправленный унив...</td>\n",
       "      <td>1</td>\n",
       "      <td>lvl0</td>\n",
       "      <td>lvl1</td>\n",
       "    </tr>\n",
       "  </tbody>\n",
       "</table>\n",
       "</div>"
      ],
      "text/plain": [
       "        id                                              title  y_pred lvl_p  \\\n",
       "0  1070974             браслет натуральный камень lotus 0dot0       1  lvl0   \n",
       "1   450413  fusion life шампунь сухой окрасить волос личит...       1  lvl0   \n",
       "2   126857  микрофон пк jack 3dot5мма всенаправленный унив...       1  lvl0   \n",
       "\n",
       "  lvl_d  \n",
       "0  lvl1  \n",
       "1  lvl1  \n",
       "2  lvl1  "
      ]
     },
     "execution_count": 24,
     "metadata": {},
     "output_type": "execute_result"
    }
   ],
   "source": [
    "df_predictions_test = pd.DataFrame({'id': df_test['id'],\n",
    "                                    'title': df_test['title'],\n",
    "                                    'y_pred': [1 for x in df_test['title']],\n",
    "                                    'lvl_p': ['lvl0' for x in df_test['title']],\n",
    "                                    'lvl_d': ['lvl1' for x in df_test['title']] \n",
    "                                   })\n",
    "df_predictions_test.head(3)"
   ]
  },
  {
   "cell_type": "markdown",
   "id": "8a569d77",
   "metadata": {},
   "source": [
    "Предскажем классы для меньшего ранга по тестовой выборке, двигаясь от lvl1 вниз."
   ]
  },
  {
   "cell_type": "code",
   "execution_count": 25,
   "id": "f1814f7d",
   "metadata": {
    "scrolled": true
   },
   "outputs": [
    {
     "name": "stdout",
     "output_type": "stream",
     "text": [
      "parent >>>| lvl1 |<<< child >>>| lvl2 |<<< predicted for parent >>>  1  <<<\n",
      "parent >>>| lvl2 |<<< child >>>| lvl3 |<<< predicted for parent >>>  10012  <<<\n",
      "parent >>>| lvl2 |<<< child >>>| lvl3 |<<< predicted for parent >>>  10020  <<<\n",
      "parent >>>| lvl2 |<<< child >>>| lvl3 |<<< predicted for parent >>>  10018  <<<\n",
      "parent >>>| lvl2 |<<< child >>>| lvl3 |<<< predicted for parent >>>  10003  <<<\n",
      "parent >>>| lvl2 |<<< child >>>| lvl3 |<<< predicted for parent >>>  10014  <<<\n",
      "parent >>>| lvl3 |<<< child >>>| lvl4 |<<< predicted for parent >>>  10113  <<<\n",
      "parent >>>| lvl3 |<<< child >>>| lvl4 |<<< predicted for parent >>>  10044  <<<\n",
      "parent >>>| lvl3 |<<< child >>>| lvl4 |<<< predicted for parent >>>  10118  <<<\n",
      "parent >>>| lvl3 |<<< child >>>| lvl4 |<<< predicted for parent >>>  10023  <<<\n",
      "parent >>>| lvl3 |<<< child >>>| lvl4 |<<< predicted for parent >>>  10191  <<<\n",
      "parent >>>| lvl3 |<<< child >>>| lvl4 |<<< predicted for parent >>>  10110  <<<\n",
      "parent >>>| lvl3 |<<< child >>>| lvl4 |<<< predicted for parent >>>  10222  <<<\n",
      "parent >>>| lvl3 |<<< child >>>| lvl4 |<<< predicted for parent >>>  10116  <<<\n",
      "parent >>>| lvl3 |<<< child >>>| lvl4 |<<< predicted for parent >>>  10052  <<<\n",
      "parent >>>| lvl3 |<<< child >>>| lvl4 |<<< predicted for parent >>>  10165  <<<\n",
      "parent >>>| lvl3 |<<< child >>>| lvl4 |<<< predicted for parent >>>  10115  <<<\n",
      "parent >>>| lvl3 |<<< child >>>| lvl4 |<<< predicted for parent >>>  10144  <<<\n",
      "parent >>>| lvl3 |<<< child >>>| lvl4 |<<< predicted for parent >>>  10094  <<<\n",
      "parent >>>| lvl3 |<<< child >>>| lvl4 |<<< predicted for parent >>>  10129  <<<\n",
      "parent >>>| lvl3 |<<< child >>>| lvl4 |<<< predicted for parent >>>  10137  <<<\n",
      "parent >>>| lvl3 |<<< child >>>| lvl4 |<<< predicted for parent >>>  10024  <<<\n",
      "parent >>>| lvl3 |<<< child >>>| lvl4 |<<< predicted for parent >>>  10227  <<<\n",
      "parent >>>| lvl3 |<<< child >>>| lvl4 |<<< predicted for parent >>>  10219  <<<\n",
      "parent >>>| lvl3 |<<< child >>>| lvl4 |<<< predicted for parent >>>  10021  <<<\n",
      "parent >>>| lvl3 |<<< child >>>| lvl4 |<<< predicted for parent >>>  10073  <<<\n",
      "parent >>>| lvl3 |<<< child >>>| lvl4 |<<< predicted for parent >>>  10095  <<<\n",
      "parent >>>| lvl3 |<<< child >>>| lvl4 |<<< predicted for parent >>>  10185  <<<\n",
      "parent >>>| lvl3 |<<< child >>>| lvl4 |<<< predicted for parent >>>  10166  <<<\n",
      "parent >>>| lvl3 |<<< child >>>| lvl4 |<<< predicted for parent >>>  10184  <<<\n",
      "parent >>>| lvl3 |<<< child >>>| lvl4 |<<< predicted for parent >>>  10091  <<<\n",
      "parent >>>| lvl3 |<<< child >>>| lvl4 |<<< predicted for parent >>>  10070  <<<\n",
      "parent >>>| lvl3 |<<< child >>>| lvl4 |<<< predicted for parent >>>  10049  <<<\n",
      "parent >>>| lvl3 |<<< child >>>| lvl4 |<<< predicted for parent >>>  10221  <<<\n",
      "parent >>>| lvl3 |<<< child >>>| lvl4 |<<< predicted for parent >>>  10058  <<<\n",
      "parent >>>| lvl3 |<<< child >>>| lvl4 |<<< predicted for parent >>>  10180  <<<\n",
      "parent >>>| lvl3 |<<< child >>>| lvl4 |<<< predicted for parent >>>  10026  <<<\n",
      "parent >>>| lvl3 |<<< child >>>| lvl4 |<<< predicted for parent >>>  10084  <<<\n",
      "parent >>>| lvl3 |<<< child >>>| lvl4 |<<< predicted for parent >>>  10074  <<<\n",
      "parent >>>| lvl3 |<<< child >>>| lvl4 |<<< predicted for parent >>>  10141  <<<\n",
      "parent >>>| lvl3 |<<< child >>>| lvl4 |<<< predicted for parent >>>  2894  <<<\n",
      "parent >>>| lvl3 |<<< child >>>| lvl4 |<<< predicted for parent >>>  2807  <<<\n",
      "parent >>>| lvl3 |<<< child >>>| lvl4 |<<< predicted for parent >>>  10163  <<<\n",
      "parent >>>| lvl3 |<<< child >>>| lvl4 |<<< predicted for parent >>>  10169  <<<\n",
      "parent >>>| lvl3 |<<< child >>>| lvl4 |<<< predicted for parent >>>  10022  <<<\n",
      "parent >>>| lvl3 |<<< child >>>| lvl4 |<<< predicted for parent >>>  10186  <<<\n",
      "parent >>>| lvl3 |<<< child >>>| lvl4 |<<< predicted for parent >>>  10030  <<<\n",
      "parent >>>| lvl3 |<<< child >>>| lvl4 |<<< predicted for parent >>>  10226  <<<\n",
      "parent >>>| lvl3 |<<< child >>>| lvl4 |<<< predicted for parent >>>  10034  <<<\n",
      "parent >>>| lvl3 |<<< child >>>| lvl4 |<<< predicted for parent >>>  2673  <<<\n",
      "parent >>>| lvl3 |<<< child >>>| lvl4 |<<< predicted for parent >>>  10232  <<<\n",
      "parent >>>| lvl3 |<<< child >>>| lvl4 |<<< predicted for parent >>>  10086  <<<\n",
      "parent >>>| lvl3 |<<< child >>>| lvl4 |<<< predicted for parent >>>  10205  <<<\n",
      "parent >>>| lvl3 |<<< child >>>| lvl4 |<<< predicted for parent >>>  10150  <<<\n",
      "parent >>>| lvl4 |<<< child >>>| lvl5 |<<< predicted for parent >>>  10355  <<<\n",
      "parent >>>| lvl4 |<<< child >>>| lvl5 |<<< predicted for parent >>>  10398  <<<\n",
      "parent >>>| lvl4 |<<< child >>>| lvl5 |<<< predicted for parent >>>  11163  <<<\n",
      "parent >>>| lvl4 |<<< child >>>| lvl5 |<<< predicted for parent >>>  10214  <<<\n",
      "parent >>>| lvl4 |<<< child >>>| lvl5 |<<< predicted for parent >>>  10104  <<<\n",
      "parent >>>| lvl4 |<<< child >>>| lvl5 |<<< predicted for parent >>>  12823  <<<\n",
      "parent >>>| lvl4 |<<< child >>>| lvl5 |<<< predicted for parent >>>  10268  <<<\n",
      "parent >>>| lvl4 |<<< child >>>| lvl5 |<<< predicted for parent >>>  11116  <<<\n",
      "parent >>>| lvl4 |<<< child >>>| lvl5 |<<< predicted for parent >>>  10749  <<<\n",
      "parent >>>| lvl4 |<<< child >>>| lvl5 |<<< predicted for parent >>>  12842  <<<\n",
      "parent >>>| lvl4 |<<< child >>>| lvl5 |<<< predicted for parent >>>  10533  <<<\n",
      "parent >>>| lvl4 |<<< child >>>| lvl5 |<<< predicted for parent >>>  10313  <<<\n",
      "parent >>>| lvl4 |<<< child >>>| lvl5 |<<< predicted for parent >>>  11351  <<<\n",
      "parent >>>| lvl4 |<<< child >>>| lvl5 |<<< predicted for parent >>>  10705  <<<\n",
      "parent >>>| lvl4 |<<< child >>>| lvl5 |<<< predicted for parent >>>  10377  <<<\n",
      "parent >>>| lvl4 |<<< child >>>| lvl5 |<<< predicted for parent >>>  11505  <<<\n",
      "parent >>>| lvl4 |<<< child >>>| lvl5 |<<< predicted for parent >>>  11157  <<<\n",
      "parent >>>| lvl4 |<<< child >>>| lvl5 |<<< predicted for parent >>>  10508  <<<\n",
      "parent >>>| lvl4 |<<< child >>>| lvl5 |<<< predicted for parent >>>  10080  <<<\n",
      "parent >>>| lvl4 |<<< child >>>| lvl5 |<<< predicted for parent >>>  11333  <<<\n",
      "parent >>>| lvl4 |<<< child >>>| lvl5 |<<< predicted for parent >>>  10390  <<<\n",
      "parent >>>| lvl4 |<<< child >>>| lvl5 |<<< predicted for parent >>>  10908  <<<\n",
      "parent >>>| lvl4 |<<< child >>>| lvl5 |<<< predicted for parent >>>  10445  <<<\n",
      "parent >>>| lvl4 |<<< child >>>| lvl5 |<<< predicted for parent >>>  13534  <<<\n",
      "parent >>>| lvl4 |<<< child >>>| lvl5 |<<< predicted for parent >>>  10751  <<<\n",
      "parent >>>| lvl4 |<<< child >>>| lvl5 |<<< predicted for parent >>>  10992  <<<\n",
      "parent >>>| lvl4 |<<< child >>>| lvl5 |<<< predicted for parent >>>  10107  <<<\n",
      "parent >>>| lvl4 |<<< child >>>| lvl5 |<<< predicted for parent >>>  10160  <<<\n",
      "parent >>>| lvl4 |<<< child >>>| lvl5 |<<< predicted for parent >>>  11166  <<<\n",
      "parent >>>| lvl4 |<<< child >>>| lvl5 |<<< predicted for parent >>>  10663  <<<\n",
      "parent >>>| lvl4 |<<< child >>>| lvl5 |<<< predicted for parent >>>  10172  <<<\n",
      "parent >>>| lvl4 |<<< child >>>| lvl5 |<<< predicted for parent >>>  10154  <<<\n",
      "parent >>>| lvl4 |<<< child >>>| lvl5 |<<< predicted for parent >>>  10937  <<<\n",
      "parent >>>| lvl4 |<<< child >>>| lvl5 |<<< predicted for parent >>>  10416  <<<\n",
      "parent >>>| lvl4 |<<< child >>>| lvl5 |<<< predicted for parent >>>  10152  <<<\n",
      "parent >>>| lvl4 |<<< child >>>| lvl5 |<<< predicted for parent >>>  10648  <<<\n",
      "parent >>>| lvl4 |<<< child >>>| lvl5 |<<< predicted for parent >>>  10060  <<<\n",
      "parent >>>| lvl4 |<<< child >>>| lvl5 |<<< predicted for parent >>>  2609  <<<\n",
      "parent >>>| lvl4 |<<< child >>>| lvl5 |<<< predicted for parent >>>  11390  <<<\n",
      "parent >>>| lvl4 |<<< child >>>| lvl5 |<<< predicted for parent >>>  10126  <<<\n",
      "parent >>>| lvl4 |<<< child >>>| lvl5 |<<< predicted for parent >>>  11245  <<<\n",
      "parent >>>| lvl4 |<<< child >>>| lvl5 |<<< predicted for parent >>>  10139  <<<\n",
      "parent >>>| lvl4 |<<< child >>>| lvl5 |<<< predicted for parent >>>  10739  <<<\n",
      "parent >>>| lvl4 |<<< child >>>| lvl5 |<<< predicted for parent >>>  11027  <<<\n",
      "parent >>>| lvl4 |<<< child >>>| lvl5 |<<< predicted for parent >>>  10968  <<<\n",
      "parent >>>| lvl4 |<<< child >>>| lvl5 |<<< predicted for parent >>>  11328  <<<\n",
      "parent >>>| lvl4 |<<< child >>>| lvl5 |<<< predicted for parent >>>  10918  <<<\n",
      "parent >>>| lvl4 |<<< child >>>| lvl5 |<<< predicted for parent >>>  11304  <<<\n",
      "parent >>>| lvl4 |<<< child >>>| lvl5 |<<< predicted for parent >>>  10934  <<<\n"
     ]
    },
    {
     "name": "stdout",
     "output_type": "stream",
     "text": [
      "parent >>>| lvl4 |<<< child >>>| lvl5 |<<< predicted for parent >>>  10890  <<<\n",
      "parent >>>| lvl4 |<<< child >>>| lvl5 |<<< predicted for parent >>>  10143  <<<\n",
      "parent >>>| lvl4 |<<< child >>>| lvl5 |<<< predicted for parent >>>  10476  <<<\n",
      "parent >>>| lvl4 |<<< child >>>| lvl5 |<<< predicted for parent >>>  11285  <<<\n",
      "parent >>>| lvl4 |<<< child >>>| lvl5 |<<< predicted for parent >>>  10559  <<<\n",
      "parent >>>| lvl4 |<<< child >>>| lvl5 |<<< predicted for parent >>>  10858  <<<\n",
      "parent >>>| lvl4 |<<< child >>>| lvl5 |<<< predicted for parent >>>  10260  <<<\n",
      "parent >>>| lvl4 |<<< child >>>| lvl5 |<<< predicted for parent >>>  11254  <<<\n",
      "parent >>>| lvl4 |<<< child >>>| lvl5 |<<< predicted for parent >>>  10225  <<<\n",
      "parent >>>| lvl4 |<<< child >>>| lvl5 |<<< predicted for parent >>>  10081  <<<\n",
      "parent >>>| lvl4 |<<< child >>>| lvl5 |<<< predicted for parent >>>  10404  <<<\n",
      "parent >>>| lvl4 |<<< child >>>| lvl5 |<<< predicted for parent >>>  10634  <<<\n",
      "parent >>>| lvl4 |<<< child >>>| lvl5 |<<< predicted for parent >>>  11015  <<<\n",
      "parent >>>| lvl4 |<<< child >>>| lvl5 |<<< predicted for parent >>>  11215  <<<\n",
      "parent >>>| lvl4 |<<< child >>>| lvl5 |<<< predicted for parent >>>  10526  <<<\n",
      "parent >>>| lvl4 |<<< child >>>| lvl5 |<<< predicted for parent >>>  10641  <<<\n",
      "parent >>>| lvl4 |<<< child >>>| lvl5 |<<< predicted for parent >>>  10289  <<<\n",
      "parent >>>| lvl4 |<<< child >>>| lvl5 |<<< predicted for parent >>>  11370  <<<\n",
      "parent >>>| lvl4 |<<< child >>>| lvl5 |<<< predicted for parent >>>  11306  <<<\n",
      "parent >>>| lvl4 |<<< child >>>| lvl5 |<<< predicted for parent >>>  11264  <<<\n",
      "parent >>>| lvl4 |<<< child >>>| lvl5 |<<< predicted for parent >>>  11025  <<<\n",
      "parent >>>| lvl4 |<<< child >>>| lvl5 |<<< predicted for parent >>>  10651  <<<\n",
      "parent >>>| lvl4 |<<< child >>>| lvl5 |<<< predicted for parent >>>  10223  <<<\n",
      "parent >>>| lvl4 |<<< child >>>| lvl5 |<<< predicted for parent >>>  11379  <<<\n",
      "parent >>>| lvl4 |<<< child >>>| lvl5 |<<< predicted for parent >>>  10696  <<<\n",
      "parent >>>| lvl4 |<<< child >>>| lvl5 |<<< predicted for parent >>>  11350  <<<\n",
      "parent >>>| lvl4 |<<< child >>>| lvl5 |<<< predicted for parent >>>  10100  <<<\n",
      "parent >>>| lvl4 |<<< child >>>| lvl5 |<<< predicted for parent >>>  11405  <<<\n",
      "parent >>>| lvl4 |<<< child >>>| lvl5 |<<< predicted for parent >>>  11017  <<<\n",
      "parent >>>| lvl4 |<<< child >>>| lvl5 |<<< predicted for parent >>>  11092  <<<\n",
      "parent >>>| lvl4 |<<< child >>>| lvl5 |<<< predicted for parent >>>  11340  <<<\n",
      "parent >>>| lvl4 |<<< child >>>| lvl5 |<<< predicted for parent >>>  10262  <<<\n",
      "parent >>>| lvl4 |<<< child >>>| lvl5 |<<< predicted for parent >>>  2606  <<<\n",
      "parent >>>| lvl4 |<<< child >>>| lvl5 |<<< predicted for parent >>>  10622  <<<\n",
      "parent >>>| lvl4 |<<< child >>>| lvl5 |<<< predicted for parent >>>  10597  <<<\n",
      "parent >>>| lvl4 |<<< child >>>| lvl5 |<<< predicted for parent >>>  10516  <<<\n",
      "parent >>>| lvl4 |<<< child >>>| lvl5 |<<< predicted for parent >>>  10500  <<<\n",
      "parent >>>| lvl4 |<<< child >>>| lvl5 |<<< predicted for parent >>>  10545  <<<\n",
      "parent >>>| lvl4 |<<< child >>>| lvl5 |<<< predicted for parent >>>  2809  <<<\n",
      "parent >>>| lvl4 |<<< child >>>| lvl5 |<<< predicted for parent >>>  11292  <<<\n",
      "parent >>>| lvl4 |<<< child >>>| lvl5 |<<< predicted for parent >>>  11449  <<<\n",
      "parent >>>| lvl4 |<<< child >>>| lvl5 |<<< predicted for parent >>>  10483  <<<\n",
      "parent >>>| lvl4 |<<< child >>>| lvl5 |<<< predicted for parent >>>  11204  <<<\n",
      "parent >>>| lvl4 |<<< child >>>| lvl5 |<<< predicted for parent >>>  2808  <<<\n",
      "parent >>>| lvl4 |<<< child >>>| lvl5 |<<< predicted for parent >>>  11239  <<<\n",
      "parent >>>| lvl4 |<<< child >>>| lvl5 |<<< predicted for parent >>>  10164  <<<\n",
      "parent >>>| lvl4 |<<< child >>>| lvl5 |<<< predicted for parent >>>  10087  <<<\n",
      "parent >>>| lvl4 |<<< child >>>| lvl5 |<<< predicted for parent >>>  10447  <<<\n",
      "parent >>>| lvl4 |<<< child >>>| lvl5 |<<< predicted for parent >>>  10877  <<<\n",
      "parent >>>| lvl4 |<<< child >>>| lvl5 |<<< predicted for parent >>>  10317  <<<\n",
      "parent >>>| lvl4 |<<< child >>>| lvl5 |<<< predicted for parent >>>  10212  <<<\n",
      "parent >>>| lvl4 |<<< child >>>| lvl5 |<<< predicted for parent >>>  11097  <<<\n",
      "parent >>>| lvl4 |<<< child >>>| lvl5 |<<< predicted for parent >>>  10695  <<<\n",
      "parent >>>| lvl4 |<<< child >>>| lvl5 |<<< predicted for parent >>>  11268  <<<\n",
      "parent >>>| lvl4 |<<< child >>>| lvl5 |<<< predicted for parent >>>  11099  <<<\n",
      "parent >>>| lvl4 |<<< child >>>| lvl5 |<<< predicted for parent >>>  10558  <<<\n",
      "parent >>>| lvl4 |<<< child >>>| lvl5 |<<< predicted for parent >>>  10033  <<<\n",
      "parent >>>| lvl4 |<<< child >>>| lvl5 |<<< predicted for parent >>>  11067  <<<\n",
      "parent >>>| lvl4 |<<< child >>>| lvl5 |<<< predicted for parent >>>  11291  <<<\n",
      "parent >>>| lvl4 |<<< child >>>| lvl5 |<<< predicted for parent >>>  10146  <<<\n",
      "parent >>>| lvl4 |<<< child >>>| lvl5 |<<< predicted for parent >>>  11086  <<<\n",
      "parent >>>| lvl4 |<<< child >>>| lvl5 |<<< predicted for parent >>>  11438  <<<\n",
      "parent >>>| lvl4 |<<< child >>>| lvl5 |<<< predicted for parent >>>  12899  <<<\n",
      "parent >>>| lvl4 |<<< child >>>| lvl5 |<<< predicted for parent >>>  10374  <<<\n",
      "parent >>>| lvl4 |<<< child >>>| lvl5 |<<< predicted for parent >>>  10785  <<<\n",
      "parent >>>| lvl4 |<<< child >>>| lvl5 |<<< predicted for parent >>>  10177  <<<\n",
      "parent >>>| lvl4 |<<< child >>>| lvl5 |<<< predicted for parent >>>  10822  <<<\n",
      "parent >>>| lvl4 |<<< child >>>| lvl5 |<<< predicted for parent >>>  10487  <<<\n",
      "parent >>>| lvl4 |<<< child >>>| lvl5 |<<< predicted for parent >>>  10666  <<<\n",
      "parent >>>| lvl4 |<<< child >>>| lvl5 |<<< predicted for parent >>>  10765  <<<\n",
      "parent >>>| lvl4 |<<< child >>>| lvl5 |<<< predicted for parent >>>  10319  <<<\n",
      "parent >>>| lvl4 |<<< child >>>| lvl5 |<<< predicted for parent >>>  10067  <<<\n",
      "parent >>>| lvl4 |<<< child >>>| lvl5 |<<< predicted for parent >>>  10867  <<<\n",
      "parent >>>| lvl4 |<<< child >>>| lvl5 |<<< predicted for parent >>>  11384  <<<\n",
      "parent >>>| lvl4 |<<< child >>>| lvl5 |<<< predicted for parent >>>  11087  <<<\n",
      "parent >>>| lvl4 |<<< child >>>| lvl5 |<<< predicted for parent >>>  10806  <<<\n",
      "parent >>>| lvl4 |<<< child >>>| lvl5 |<<< predicted for parent >>>  10484  <<<\n",
      "parent >>>| lvl4 |<<< child >>>| lvl5 |<<< predicted for parent >>>  10282  <<<\n",
      "parent >>>| lvl4 |<<< child >>>| lvl5 |<<< predicted for parent >>>  10940  <<<\n",
      "parent >>>| lvl4 |<<< child >>>| lvl5 |<<< predicted for parent >>>  10586  <<<\n",
      "parent >>>| lvl4 |<<< child >>>| lvl5 |<<< predicted for parent >>>  10621  <<<\n",
      "parent >>>| lvl4 |<<< child >>>| lvl5 |<<< predicted for parent >>>  10210  <<<\n",
      "parent >>>| lvl4 |<<< child >>>| lvl5 |<<< predicted for parent >>>  10108  <<<\n",
      "parent >>>| lvl4 |<<< child >>>| lvl5 |<<< predicted for parent >>>  11129  <<<\n",
      "parent >>>| lvl4 |<<< child >>>| lvl5 |<<< predicted for parent >>>  10881  <<<\n",
      "parent >>>| lvl4 |<<< child >>>| lvl5 |<<< predicted for parent >>>  10956  <<<\n",
      "parent >>>| lvl4 |<<< child >>>| lvl5 |<<< predicted for parent >>>  10339  <<<\n",
      "parent >>>| lvl4 |<<< child >>>| lvl5 |<<< predicted for parent >>>  11376  <<<\n",
      "parent >>>| lvl4 |<<< child >>>| lvl5 |<<< predicted for parent >>>  10134  <<<\n",
      "parent >>>| lvl4 |<<< child >>>| lvl5 |<<< predicted for parent >>>  10140  <<<\n",
      "parent >>>| lvl4 |<<< child >>>| lvl5 |<<< predicted for parent >>>  13817  <<<\n",
      "parent >>>| lvl4 |<<< child >>>| lvl5 |<<< predicted for parent >>>  10082  <<<\n",
      "parent >>>| lvl4 |<<< child >>>| lvl5 |<<< predicted for parent >>>  11466  <<<\n",
      "parent >>>| lvl4 |<<< child >>>| lvl5 |<<< predicted for parent >>>  11519  <<<\n",
      "parent >>>| lvl4 |<<< child >>>| lvl5 |<<< predicted for parent >>>  10770  <<<\n",
      "parent >>>| lvl4 |<<< child >>>| lvl5 |<<< predicted for parent >>>  10504  <<<\n",
      "parent >>>| lvl4 |<<< child >>>| lvl5 |<<< predicted for parent >>>  11120  <<<\n",
      "parent >>>| lvl4 |<<< child >>>| lvl5 |<<< predicted for parent >>>  10626  <<<\n",
      "parent >>>| lvl4 |<<< child >>>| lvl5 |<<< predicted for parent >>>  10350  <<<\n",
      "parent >>>| lvl4 |<<< child >>>| lvl5 |<<< predicted for parent >>>  10045  <<<\n",
      "parent >>>| lvl4 |<<< child >>>| lvl5 |<<< predicted for parent >>>  10826  <<<\n",
      "parent >>>| lvl4 |<<< child >>>| lvl5 |<<< predicted for parent >>>  10117  <<<\n",
      "parent >>>| lvl4 |<<< child >>>| lvl5 |<<< predicted for parent >>>  10193  <<<\n"
     ]
    },
    {
     "name": "stdout",
     "output_type": "stream",
     "text": [
      "parent >>>| lvl4 |<<< child >>>| lvl5 |<<< predicted for parent >>>  10922  <<<\n",
      "parent >>>| lvl4 |<<< child >>>| lvl5 |<<< predicted for parent >>>  10418  <<<\n",
      "parent >>>| lvl4 |<<< child >>>| lvl5 |<<< predicted for parent >>>  10075  <<<\n",
      "parent >>>| lvl4 |<<< child >>>| lvl5 |<<< predicted for parent >>>  10879  <<<\n",
      "parent >>>| lvl4 |<<< child >>>| lvl5 |<<< predicted for parent >>>  10805  <<<\n",
      "parent >>>| lvl4 |<<< child >>>| lvl5 |<<< predicted for parent >>>  2811  <<<\n",
      "parent >>>| lvl4 |<<< child >>>| lvl5 |<<< predicted for parent >>>  10950  <<<\n",
      "parent >>>| lvl4 |<<< child >>>| lvl5 |<<< predicted for parent >>>  10646  <<<\n",
      "parent >>>| lvl4 |<<< child >>>| lvl5 |<<< predicted for parent >>>  10915  <<<\n",
      "parent >>>| lvl4 |<<< child >>>| lvl5 |<<< predicted for parent >>>  11140  <<<\n",
      "parent >>>| lvl4 |<<< child >>>| lvl5 |<<< predicted for parent >>>  11168  <<<\n",
      "parent >>>| lvl4 |<<< child >>>| lvl5 |<<< predicted for parent >>>  10203  <<<\n",
      "parent >>>| lvl4 |<<< child >>>| lvl5 |<<< predicted for parent >>>  10059  <<<\n",
      "parent >>>| lvl4 |<<< child >>>| lvl5 |<<< predicted for parent >>>  2810  <<<\n",
      "parent >>>| lvl4 |<<< child >>>| lvl5 |<<< predicted for parent >>>  10875  <<<\n",
      "parent >>>| lvl4 |<<< child >>>| lvl5 |<<< predicted for parent >>>  11495  <<<\n",
      "parent >>>| lvl4 |<<< child >>>| lvl5 |<<< predicted for parent >>>  11080  <<<\n",
      "parent >>>| lvl4 |<<< child >>>| lvl5 |<<< predicted for parent >>>  10102  <<<\n",
      "parent >>>| lvl4 |<<< child >>>| lvl5 |<<< predicted for parent >>>  10335  <<<\n",
      "parent >>>| lvl4 |<<< child >>>| lvl5 |<<< predicted for parent >>>  11138  <<<\n",
      "parent >>>| lvl4 |<<< child >>>| lvl5 |<<< predicted for parent >>>  11300  <<<\n",
      "parent >>>| lvl4 |<<< child >>>| lvl5 |<<< predicted for parent >>>  11427  <<<\n",
      "parent >>>| lvl4 |<<< child >>>| lvl5 |<<< predicted for parent >>>  11266  <<<\n",
      "parent >>>| lvl4 |<<< child >>>| lvl5 |<<< predicted for parent >>>  11145  <<<\n",
      "parent >>>| lvl4 |<<< child >>>| lvl5 |<<< predicted for parent >>>  11442  <<<\n",
      "parent >>>| lvl5 |<<< child >>>| lvl6 |<<< predicted for parent >>>  10589  <<<\n",
      "parent >>>| lvl5 |<<< child >>>| lvl6 |<<< predicted for parent >>>  2749  <<<\n",
      "parent >>>| lvl5 |<<< child >>>| lvl6 |<<< predicted for parent >>>  11281  <<<\n",
      "parent >>>| lvl5 |<<< child >>>| lvl6 |<<< predicted for parent >>>  2815  <<<\n",
      "parent >>>| lvl5 |<<< child >>>| lvl6 |<<< predicted for parent >>>  2812  <<<\n",
      "parent >>>| lvl5 |<<< child >>>| lvl6 |<<< predicted for parent >>>  13073  <<<\n",
      "parent >>>| lvl5 |<<< child >>>| lvl6 |<<< predicted for parent >>>  2821  <<<\n",
      "parent >>>| lvl5 |<<< child >>>| lvl6 |<<< predicted for parent >>>  13806  <<<\n",
      "parent >>>| lvl5 |<<< child >>>| lvl6 |<<< predicted for parent >>>  2818  <<<\n",
      "parent >>>| lvl5 |<<< child >>>| lvl6 |<<< predicted for parent >>>  2817  <<<\n",
      ">>> DONE WITH WHOLE DF <<<\n",
      "Wall time: 3min 59s\n"
     ]
    },
    {
     "data": {
      "text/html": [
       "<div>\n",
       "<style scoped>\n",
       "    .dataframe tbody tr th:only-of-type {\n",
       "        vertical-align: middle;\n",
       "    }\n",
       "\n",
       "    .dataframe tbody tr th {\n",
       "        vertical-align: top;\n",
       "    }\n",
       "\n",
       "    .dataframe thead th {\n",
       "        text-align: right;\n",
       "    }\n",
       "</style>\n",
       "<table border=\"1\" class=\"dataframe\">\n",
       "  <thead>\n",
       "    <tr style=\"text-align: right;\">\n",
       "      <th></th>\n",
       "      <th>id</th>\n",
       "      <th>title</th>\n",
       "      <th>y_pred</th>\n",
       "      <th>lvl_p</th>\n",
       "      <th>lvl_d</th>\n",
       "    </tr>\n",
       "  </thead>\n",
       "  <tbody>\n",
       "    <tr>\n",
       "      <th>0</th>\n",
       "      <td>1070974</td>\n",
       "      <td>браслет натуральный камень lotus 0dot0</td>\n",
       "      <td>1</td>\n",
       "      <td>lvl0</td>\n",
       "      <td>lvl1</td>\n",
       "    </tr>\n",
       "    <tr>\n",
       "      <th>1</th>\n",
       "      <td>450413</td>\n",
       "      <td>fusion life шампунь сухой окрасить волос личит...</td>\n",
       "      <td>1</td>\n",
       "      <td>lvl0</td>\n",
       "      <td>lvl1</td>\n",
       "    </tr>\n",
       "    <tr>\n",
       "      <th>2</th>\n",
       "      <td>126857</td>\n",
       "      <td>микрофон пк jack 3dot5мма всенаправленный унив...</td>\n",
       "      <td>1</td>\n",
       "      <td>lvl0</td>\n",
       "      <td>lvl1</td>\n",
       "    </tr>\n",
       "    <tr>\n",
       "      <th>3</th>\n",
       "      <td>1577569</td>\n",
       "      <td>серьга гвоздик сердце серьга гвоздик сердце 0</td>\n",
       "      <td>1</td>\n",
       "      <td>lvl0</td>\n",
       "      <td>lvl1</td>\n",
       "    </tr>\n",
       "    <tr>\n",
       "      <th>4</th>\n",
       "      <td>869328</td>\n",
       "      <td>чёрно красный стильный брошь тюльпан акрил бро...</td>\n",
       "      <td>1</td>\n",
       "      <td>lvl0</td>\n",
       "      <td>lvl1</td>\n",
       "    </tr>\n",
       "    <tr>\n",
       "      <th>...</th>\n",
       "      <td>...</td>\n",
       "      <td>...</td>\n",
       "      <td>...</td>\n",
       "      <td>...</td>\n",
       "      <td>...</td>\n",
       "    </tr>\n",
       "    <tr>\n",
       "      <th>346219</th>\n",
       "      <td>1218054</td>\n",
       "      <td>костюм футер mini тёплый костюм мальчик девочк...</td>\n",
       "      <td>2851</td>\n",
       "      <td>lvl5</td>\n",
       "      <td>lvl6</td>\n",
       "    </tr>\n",
       "    <tr>\n",
       "      <th>346220</th>\n",
       "      <td>1395972</td>\n",
       "      <td>футболка детский оранжевый футболка оранжевый 0</td>\n",
       "      <td>2855</td>\n",
       "      <td>lvl5</td>\n",
       "      <td>lvl6</td>\n",
       "    </tr>\n",
       "    <tr>\n",
       "      <th>346221</th>\n",
       "      <td>1115813</td>\n",
       "      <td>детский спортивный костюм детский спортивный к...</td>\n",
       "      <td>2851</td>\n",
       "      <td>lvl5</td>\n",
       "      <td>lvl6</td>\n",
       "    </tr>\n",
       "    <tr>\n",
       "      <th>346222</th>\n",
       "      <td>701098</td>\n",
       "      <td>костюм спортивный девочка lokki cute girl rule...</td>\n",
       "      <td>2851</td>\n",
       "      <td>lvl5</td>\n",
       "      <td>lvl6</td>\n",
       "    </tr>\n",
       "    <tr>\n",
       "      <th>346223</th>\n",
       "      <td>84833</td>\n",
       "      <td>спортивный сумка dc sport simple вместительный...</td>\n",
       "      <td>2848</td>\n",
       "      <td>lvl5</td>\n",
       "      <td>lvl6</td>\n",
       "    </tr>\n",
       "  </tbody>\n",
       "</table>\n",
       "<p>346224 rows × 5 columns</p>\n",
       "</div>"
      ],
      "text/plain": [
       "             id                                              title y_pred  \\\n",
       "0       1070974             браслет натуральный камень lotus 0dot0      1   \n",
       "1        450413  fusion life шампунь сухой окрасить волос личит...      1   \n",
       "2        126857  микрофон пк jack 3dot5мма всенаправленный унив...      1   \n",
       "3       1577569      серьга гвоздик сердце серьга гвоздик сердце 0      1   \n",
       "4        869328  чёрно красный стильный брошь тюльпан акрил бро...      1   \n",
       "...         ...                                                ...    ...   \n",
       "346219  1218054  костюм футер mini тёплый костюм мальчик девочк...   2851   \n",
       "346220  1395972    футболка детский оранжевый футболка оранжевый 0   2855   \n",
       "346221  1115813  детский спортивный костюм детский спортивный к...   2851   \n",
       "346222   701098  костюм спортивный девочка lokki cute girl rule...   2851   \n",
       "346223    84833  спортивный сумка dc sport simple вместительный...   2848   \n",
       "\n",
       "       lvl_p lvl_d  \n",
       "0       lvl0  lvl1  \n",
       "1       lvl0  lvl1  \n",
       "2       lvl0  lvl1  \n",
       "3       lvl0  lvl1  \n",
       "4       lvl0  lvl1  \n",
       "...      ...   ...  \n",
       "346219  lvl5  lvl6  \n",
       "346220  lvl5  lvl6  \n",
       "346221  lvl5  lvl6  \n",
       "346222  lvl5  lvl6  \n",
       "346223  lvl5  lvl6  \n",
       "\n",
       "[346224 rows x 5 columns]"
      ]
     },
     "execution_count": 25,
     "metadata": {},
     "output_type": "execute_result"
    }
   ],
   "source": [
    "%%time\n",
    "df_test['title']\n",
    "\n",
    "# задаем листы с предками-потомками, по которым будем итерировать модели\n",
    "p_c = ['lvl1', 'lvl2', 'lvl3', 'lvl4', 'lvl5'] \n",
    "d_c = ['lvl2', 'lvl3', 'lvl4', 'lvl5', 'lvl6']\n",
    "\n",
    "# основной цикл\n",
    "for p, d in zip(p_c, d_c):\n",
    "    \n",
    "    # движемся от начала древа вниз. фильтруем по классу-предку, классифицируем по подклассам на уровень ниже\n",
    "    for i in df_train[(df_train[p] != 0) & (df_train[d] != 0)][p].unique():\n",
    "        \n",
    "        # выбираем Х и у из тренировочной выборки с таким же предком, как и Х в тестовой выборки \n",
    "        # (для тестовой класс предка предсказан или задан = 1 для lvl1)\n",
    "        X = df_train[(df_train[p] == i)]['title'].astype(str)\n",
    "        y = df_train[(df_train[p] == i)][d]\n",
    "        X_test = df_predictions_test[(df_predictions_test['lvl_d'] == p) \n",
    "                                     & (df_predictions_test['y_pred'] == i)]['title'].astype(str)\n",
    "        X_test_id = df_predictions_test[(df_predictions_test['lvl_d'] == p) \n",
    "                                     & (df_predictions_test['y_pred'] == i)]['id']\n",
    "        \n",
    "        # если в предках тестовой выборки нет такой категории -> вернемся в начало цикла\n",
    "        if len(X_test) == 0:\n",
    "            continue\n",
    "        else:\n",
    "            \n",
    "            # логгирование - начало итерации\n",
    "            # print('working on >>> ', i)\n",
    "            \n",
    "            # были категории-родители с только одним потомком - для таких присваиваем руками класс единственного потомка\n",
    "            if len(y.unique()) == 1:\n",
    "                y_pred = y.iloc[0]\n",
    "                df_predictions_test_small = pd.DataFrame({'id': X_test_id,\n",
    "                                                          'title': X_test,\n",
    "                                                          'y_pred': [y_pred for x in X_test],\n",
    "                                                          'lvl_p': [p for x in X_test],\n",
    "                                                          'lvl_d': [d for x in X_test]}\n",
    "                                                        )\n",
    "                \n",
    "            # создание модели и предсказание в стандартных ситуациях                \n",
    "            else:\n",
    "                \n",
    "                # трансформация переменных\n",
    "                Z = tfidf.fit_transform(X)\n",
    "                Z_test = tfidf.transform(X_test)\n",
    "                y = label_encoder.fit_transform(y)\n",
    "                \n",
    "                # фиттинг \n",
    "                clf.fit(Z, y)\n",
    "                y_pred = clf.predict(Z_test)\n",
    "                \n",
    "                # запись результатов в мини-датафрейм\n",
    "                df_predictions_test_small = pd.DataFrame({'id': X_test_id,\n",
    "                                                          'title': X_test,\n",
    "                                                          'y_pred': label_encoder.inverse_transform(y_pred),\n",
    "                                                          'lvl_p': [p for x in X_test],\n",
    "                                                          'lvl_d': [d for x in X_test]}\n",
    "                                                        )\n",
    "\n",
    "        # присоединение результатов мини-датафрейма к основному датафрейму\n",
    "        df_predictions_test = pd.concat([df_predictions_test, df_predictions_test_small], axis=0, ignore_index=True)\n",
    "        \n",
    "        # логгирование - конец итерации\n",
    "        print('parent >>>|', p, '|<<< child >>>|', d, '|<<< predicted for parent >>> ', i, ' <<<')\n",
    "print('>>> DONE WITH WHOLE DF <<<')\n",
    "df_predictions_test"
   ]
  },
  {
   "cell_type": "markdown",
   "id": "acfcdfac",
   "metadata": {},
   "source": [
    "Удалим дубликаты."
   ]
  },
  {
   "cell_type": "code",
   "execution_count": 26,
   "id": "f2053000",
   "metadata": {},
   "outputs": [],
   "source": [
    "df_predictions_test_compact = df_predictions_test[['id', 'title', \n",
    "                                                   'y_pred', 'lvl_d']].drop_duplicates(subset='id', keep='last')"
   ]
  },
  {
   "cell_type": "markdown",
   "id": "39a48e82",
   "metadata": {},
   "source": [
    "Проверим, что ничего не потерялось по дороге."
   ]
  },
  {
   "cell_type": "code",
   "execution_count": 27,
   "id": "a4e3fb2c",
   "metadata": {
    "scrolled": true
   },
   "outputs": [
    {
     "name": "stdout",
     "output_type": "stream",
     "text": [
      "Длина исходного неразмеченного фрейма = 70864\n",
      "Длина фрейма с предсказаниями = 70864\n"
     ]
    }
   ],
   "source": [
    "print(f'Длина исходного неразмеченного фрейма = {len(df_test)}')\n",
    "print(f'Длина фрейма с предсказаниями = {len(df_predictions_test_compact)}')"
   ]
  },
  {
   "cell_type": "markdown",
   "id": "8db8940a",
   "metadata": {},
   "source": [
    "Подсоединим названия категорий."
   ]
  },
  {
   "cell_type": "code",
   "execution_count": 28,
   "id": "b234e671",
   "metadata": {
    "scrolled": false
   },
   "outputs": [
    {
     "data": {
      "text/html": [
       "<div>\n",
       "<style scoped>\n",
       "    .dataframe tbody tr th:only-of-type {\n",
       "        vertical-align: middle;\n",
       "    }\n",
       "\n",
       "    .dataframe tbody tr th {\n",
       "        vertical-align: top;\n",
       "    }\n",
       "\n",
       "    .dataframe thead th {\n",
       "        text-align: right;\n",
       "    }\n",
       "</style>\n",
       "<table border=\"1\" class=\"dataframe\">\n",
       "  <thead>\n",
       "    <tr style=\"text-align: right;\">\n",
       "      <th></th>\n",
       "      <th>id_x</th>\n",
       "      <th>title_x</th>\n",
       "      <th>y_pred</th>\n",
       "      <th>lvl_d</th>\n",
       "      <th>deep_lvl</th>\n",
       "      <th>deep_id</th>\n",
       "      <th>title_y</th>\n",
       "      <th>id_y</th>\n",
       "    </tr>\n",
       "  </thead>\n",
       "  <tbody>\n",
       "    <tr>\n",
       "      <th>0</th>\n",
       "      <td>1311421</td>\n",
       "      <td>мусульманский платье 3dot0 0</td>\n",
       "      <td>12084</td>\n",
       "      <td>lvl3</td>\n",
       "      <td>lvl3</td>\n",
       "      <td>12084</td>\n",
       "      <td>Религиозная одежда</td>\n",
       "      <td>12084</td>\n",
       "    </tr>\n",
       "    <tr>\n",
       "      <th>1</th>\n",
       "      <td>978675</td>\n",
       "      <td>чётки змеевик sautoir чётки натуральный камень 0</td>\n",
       "      <td>12084</td>\n",
       "      <td>lvl3</td>\n",
       "      <td>lvl3</td>\n",
       "      <td>12084</td>\n",
       "      <td>Религиозная одежда</td>\n",
       "      <td>12084</td>\n",
       "    </tr>\n",
       "    <tr>\n",
       "      <th>2</th>\n",
       "      <td>1499127</td>\n",
       "      <td>коврик намаз молитвенный коврик совершение еже...</td>\n",
       "      <td>12084</td>\n",
       "      <td>lvl3</td>\n",
       "      <td>lvl3</td>\n",
       "      <td>12084</td>\n",
       "      <td>Религиозная одежда</td>\n",
       "      <td>12084</td>\n",
       "    </tr>\n",
       "  </tbody>\n",
       "</table>\n",
       "</div>"
      ],
      "text/plain": [
       "      id_x                                            title_x y_pred lvl_d  \\\n",
       "0  1311421                       мусульманский платье 3dot0 0  12084  lvl3   \n",
       "1   978675   чётки змеевик sautoir чётки натуральный камень 0  12084  lvl3   \n",
       "2  1499127  коврик намаз молитвенный коврик совершение еже...  12084  lvl3   \n",
       "\n",
       "  deep_lvl  deep_id             title_y   id_y  \n",
       "0     lvl3    12084  Религиозная одежда  12084  \n",
       "1     lvl3    12084  Религиозная одежда  12084  \n",
       "2     lvl3    12084  Религиозная одежда  12084  "
      ]
     },
     "execution_count": 28,
     "metadata": {},
     "output_type": "execute_result"
    }
   ],
   "source": [
    "df_predictions_test_compact = df_predictions_test_compact.merge(\n",
    "    cat_merged[['deep_lvl', 'deep_id']], how='left', left_on='y_pred', right_on='deep_id')\n",
    "df_predictions_test_compact = df_predictions_test_compact.merge(\n",
    "    df_categories[['title', 'id']], how='left', left_on='y_pred', right_on='id')\n",
    "df_predictions_test_compact.head(3)"
   ]
  },
  {
   "cell_type": "markdown",
   "id": "fd9b4cc7",
   "metadata": {},
   "source": [
    "Запишем предсказанные категории в паркет."
   ]
  },
  {
   "cell_type": "code",
   "execution_count": 29,
   "id": "954ff8b4",
   "metadata": {},
   "outputs": [
    {
     "data": {
      "text/html": [
       "<div>\n",
       "<style scoped>\n",
       "    .dataframe tbody tr th:only-of-type {\n",
       "        vertical-align: middle;\n",
       "    }\n",
       "\n",
       "    .dataframe tbody tr th {\n",
       "        vertical-align: top;\n",
       "    }\n",
       "\n",
       "    .dataframe thead th {\n",
       "        text-align: right;\n",
       "    }\n",
       "</style>\n",
       "<table border=\"1\" class=\"dataframe\">\n",
       "  <thead>\n",
       "    <tr style=\"text-align: right;\">\n",
       "      <th></th>\n",
       "      <th>id</th>\n",
       "      <th>predicted_category_id</th>\n",
       "    </tr>\n",
       "  </thead>\n",
       "  <tbody>\n",
       "    <tr>\n",
       "      <th>0</th>\n",
       "      <td>1311421</td>\n",
       "      <td>12084</td>\n",
       "    </tr>\n",
       "    <tr>\n",
       "      <th>1</th>\n",
       "      <td>978675</td>\n",
       "      <td>12084</td>\n",
       "    </tr>\n",
       "    <tr>\n",
       "      <th>2</th>\n",
       "      <td>1499127</td>\n",
       "      <td>12084</td>\n",
       "    </tr>\n",
       "  </tbody>\n",
       "</table>\n",
       "</div>"
      ],
      "text/plain": [
       "        id predicted_category_id\n",
       "0  1311421                 12084\n",
       "1   978675                 12084\n",
       "2  1499127                 12084"
      ]
     },
     "execution_count": 29,
     "metadata": {},
     "output_type": "execute_result"
    }
   ],
   "source": [
    "submission = df_predictions_test_compact[['id_x', 'y_pred']]\n",
    "submission.columns = ['id', 'predicted_category_id']\n",
    "submission.head(3)"
   ]
  },
  {
   "cell_type": "code",
   "execution_count": 30,
   "id": "6007b997",
   "metadata": {},
   "outputs": [],
   "source": [
    "submission.to_parquet('result.parquet', index=False)"
   ]
  },
  {
   "cell_type": "code",
   "execution_count": 31,
   "id": "e77247ea",
   "metadata": {},
   "outputs": [
    {
     "data": {
      "text/html": [
       "<div>\n",
       "<style scoped>\n",
       "    .dataframe tbody tr th:only-of-type {\n",
       "        vertical-align: middle;\n",
       "    }\n",
       "\n",
       "    .dataframe tbody tr th {\n",
       "        vertical-align: top;\n",
       "    }\n",
       "\n",
       "    .dataframe thead th {\n",
       "        text-align: right;\n",
       "    }\n",
       "</style>\n",
       "<table border=\"1\" class=\"dataframe\">\n",
       "  <thead>\n",
       "    <tr style=\"text-align: right;\">\n",
       "      <th></th>\n",
       "      <th>id</th>\n",
       "      <th>predicted_category_id</th>\n",
       "    </tr>\n",
       "  </thead>\n",
       "  <tbody>\n",
       "    <tr>\n",
       "      <th>0</th>\n",
       "      <td>1311421</td>\n",
       "      <td>12084</td>\n",
       "    </tr>\n",
       "    <tr>\n",
       "      <th>1</th>\n",
       "      <td>978675</td>\n",
       "      <td>12084</td>\n",
       "    </tr>\n",
       "    <tr>\n",
       "      <th>2</th>\n",
       "      <td>1499127</td>\n",
       "      <td>12084</td>\n",
       "    </tr>\n",
       "  </tbody>\n",
       "</table>\n",
       "</div>"
      ],
      "text/plain": [
       "        id  predicted_category_id\n",
       "0  1311421                  12084\n",
       "1   978675                  12084\n",
       "2  1499127                  12084"
      ]
     },
     "execution_count": 31,
     "metadata": {},
     "output_type": "execute_result"
    }
   ],
   "source": [
    "df_res = pd.read_parquet('result.parquet')\n",
    "df_res.head(3)"
   ]
  }
 ],
 "metadata": {
  "kernelspec": {
   "display_name": "ml",
   "language": "python",
   "name": "ml"
  },
  "language_info": {
   "codemirror_mode": {
    "name": "ipython",
    "version": 3
   },
   "file_extension": ".py",
   "mimetype": "text/x-python",
   "name": "python",
   "nbconvert_exporter": "python",
   "pygments_lexer": "ipython3",
   "version": "3.9.7"
  },
  "toc": {
   "base_numbering": 1,
   "nav_menu": {},
   "number_sections": true,
   "sideBar": true,
   "skip_h1_title": false,
   "title_cell": "Table of Contents",
   "title_sidebar": "Contents",
   "toc_cell": false,
   "toc_position": {},
   "toc_section_display": true,
   "toc_window_display": false
  },
  "varInspector": {
   "cols": {
    "lenName": 16,
    "lenType": 16,
    "lenVar": 40
   },
   "kernels_config": {
    "python": {
     "delete_cmd_postfix": "",
     "delete_cmd_prefix": "del ",
     "library": "var_list.py",
     "varRefreshCmd": "print(var_dic_list())"
    },
    "r": {
     "delete_cmd_postfix": ") ",
     "delete_cmd_prefix": "rm(",
     "library": "var_list.r",
     "varRefreshCmd": "cat(var_dic_list()) "
    }
   },
   "types_to_exclude": [
    "module",
    "function",
    "builtin_function_or_method",
    "instance",
    "_Feature"
   ],
   "window_display": false
  }
 },
 "nbformat": 4,
 "nbformat_minor": 5
}
